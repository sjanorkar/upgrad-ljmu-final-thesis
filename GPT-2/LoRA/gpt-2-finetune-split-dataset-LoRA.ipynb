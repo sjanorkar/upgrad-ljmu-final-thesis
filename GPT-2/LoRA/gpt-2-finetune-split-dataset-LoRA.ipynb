{
 "cells": [
  {
   "cell_type": "code",
   "execution_count": 1,
   "metadata": {
    "_cell_guid": "b1076dfc-b9ad-4769-8c92-a6c4dae69d19",
    "_uuid": "8f2839f25d086af736a60e9eeb907d3b93b6e0e5",
    "execution": {
     "iopub.execute_input": "2024-08-06T09:05:39.104412Z",
     "iopub.status.busy": "2024-08-06T09:05:39.104109Z",
     "iopub.status.idle": "2024-08-06T09:07:25.453987Z",
     "shell.execute_reply": "2024-08-06T09:07:25.453073Z",
     "shell.execute_reply.started": "2024-08-06T09:05:39.104387Z"
    },
    "jupyter": {
     "outputs_hidden": true
    }
   },
   "outputs": [
    {
     "name": "stdout",
     "output_type": "stream",
     "text": [
      "Requirement already satisfied: bitsandbytes==0.41.3 in /home/ec2-user/anaconda3/envs/pytorch_p310/lib/python3.10/site-packages (0.41.3)\n",
      "Requirement already satisfied: peft==0.12.0 in /home/ec2-user/anaconda3/envs/pytorch_p310/lib/python3.10/site-packages (0.12.0)\n",
      "Requirement already satisfied: numpy>=1.17 in /home/ec2-user/anaconda3/envs/pytorch_p310/lib/python3.10/site-packages (from peft==0.12.0) (1.26.4)\n",
      "Requirement already satisfied: packaging>=20.0 in /home/ec2-user/anaconda3/envs/pytorch_p310/lib/python3.10/site-packages (from peft==0.12.0) (21.3)\n",
      "Requirement already satisfied: psutil in /home/ec2-user/anaconda3/envs/pytorch_p310/lib/python3.10/site-packages (from peft==0.12.0) (5.9.8)\n",
      "Requirement already satisfied: pyyaml in /home/ec2-user/anaconda3/envs/pytorch_p310/lib/python3.10/site-packages (from peft==0.12.0) (6.0.1)\n",
      "Requirement already satisfied: torch>=1.13.0 in /home/ec2-user/anaconda3/envs/pytorch_p310/lib/python3.10/site-packages (from peft==0.12.0) (2.2.0)\n",
      "Requirement already satisfied: transformers in /home/ec2-user/anaconda3/envs/pytorch_p310/lib/python3.10/site-packages (from peft==0.12.0) (4.43.3)\n",
      "Requirement already satisfied: tqdm in /home/ec2-user/anaconda3/envs/pytorch_p310/lib/python3.10/site-packages (from peft==0.12.0) (4.66.4)\n",
      "Requirement already satisfied: accelerate>=0.21.0 in /home/ec2-user/anaconda3/envs/pytorch_p310/lib/python3.10/site-packages (from peft==0.12.0) (0.33.0)\n",
      "Requirement already satisfied: safetensors in /home/ec2-user/anaconda3/envs/pytorch_p310/lib/python3.10/site-packages (from peft==0.12.0) (0.4.4)\n",
      "Requirement already satisfied: huggingface-hub>=0.17.0 in /home/ec2-user/anaconda3/envs/pytorch_p310/lib/python3.10/site-packages (from peft==0.12.0) (0.24.5)\n",
      "Requirement already satisfied: filelock in /home/ec2-user/anaconda3/envs/pytorch_p310/lib/python3.10/site-packages (from huggingface-hub>=0.17.0->peft==0.12.0) (3.14.0)\n",
      "Requirement already satisfied: fsspec>=2023.5.0 in /home/ec2-user/anaconda3/envs/pytorch_p310/lib/python3.10/site-packages (from huggingface-hub>=0.17.0->peft==0.12.0) (2024.3.1)\n",
      "Requirement already satisfied: requests in /home/ec2-user/anaconda3/envs/pytorch_p310/lib/python3.10/site-packages (from huggingface-hub>=0.17.0->peft==0.12.0) (2.32.3)\n",
      "Requirement already satisfied: typing-extensions>=3.7.4.3 in /home/ec2-user/anaconda3/envs/pytorch_p310/lib/python3.10/site-packages (from huggingface-hub>=0.17.0->peft==0.12.0) (4.12.1)\n",
      "Requirement already satisfied: pyparsing!=3.0.5,>=2.0.2 in /home/ec2-user/anaconda3/envs/pytorch_p310/lib/python3.10/site-packages (from packaging>=20.0->peft==0.12.0) (3.1.2)\n",
      "Requirement already satisfied: sympy in /home/ec2-user/anaconda3/envs/pytorch_p310/lib/python3.10/site-packages (from torch>=1.13.0->peft==0.12.0) (1.12)\n",
      "Requirement already satisfied: networkx in /home/ec2-user/anaconda3/envs/pytorch_p310/lib/python3.10/site-packages (from torch>=1.13.0->peft==0.12.0) (3.3)\n",
      "Requirement already satisfied: jinja2 in /home/ec2-user/anaconda3/envs/pytorch_p310/lib/python3.10/site-packages (from torch>=1.13.0->peft==0.12.0) (3.1.4)\n",
      "Requirement already satisfied: regex!=2019.12.17 in /home/ec2-user/anaconda3/envs/pytorch_p310/lib/python3.10/site-packages (from transformers->peft==0.12.0) (2024.7.24)\n",
      "Requirement already satisfied: tokenizers<0.20,>=0.19 in /home/ec2-user/anaconda3/envs/pytorch_p310/lib/python3.10/site-packages (from transformers->peft==0.12.0) (0.19.1)\n",
      "Requirement already satisfied: MarkupSafe>=2.0 in /home/ec2-user/anaconda3/envs/pytorch_p310/lib/python3.10/site-packages (from jinja2->torch>=1.13.0->peft==0.12.0) (2.1.5)\n",
      "Requirement already satisfied: charset-normalizer<4,>=2 in /home/ec2-user/anaconda3/envs/pytorch_p310/lib/python3.10/site-packages (from requests->huggingface-hub>=0.17.0->peft==0.12.0) (3.3.2)\n",
      "Requirement already satisfied: idna<4,>=2.5 in /home/ec2-user/anaconda3/envs/pytorch_p310/lib/python3.10/site-packages (from requests->huggingface-hub>=0.17.0->peft==0.12.0) (3.7)\n",
      "Requirement already satisfied: urllib3<3,>=1.21.1 in /home/ec2-user/anaconda3/envs/pytorch_p310/lib/python3.10/site-packages (from requests->huggingface-hub>=0.17.0->peft==0.12.0) (2.2.1)\n",
      "Requirement already satisfied: certifi>=2017.4.17 in /home/ec2-user/anaconda3/envs/pytorch_p310/lib/python3.10/site-packages (from requests->huggingface-hub>=0.17.0->peft==0.12.0) (2024.2.2)\n",
      "Requirement already satisfied: mpmath>=0.19 in /home/ec2-user/anaconda3/envs/pytorch_p310/lib/python3.10/site-packages (from sympy->torch>=1.13.0->peft==0.12.0) (1.3.0)\n",
      "Requirement already satisfied: trl==0.8.6 in /home/ec2-user/anaconda3/envs/pytorch_p310/lib/python3.10/site-packages (0.8.6)\n",
      "Requirement already satisfied: torch>=1.4.0 in /home/ec2-user/anaconda3/envs/pytorch_p310/lib/python3.10/site-packages (from trl==0.8.6) (2.2.0)\n",
      "Requirement already satisfied: transformers>=4.31.0 in /home/ec2-user/anaconda3/envs/pytorch_p310/lib/python3.10/site-packages (from trl==0.8.6) (4.43.3)\n",
      "Requirement already satisfied: numpy>=1.18.2 in /home/ec2-user/anaconda3/envs/pytorch_p310/lib/python3.10/site-packages (from trl==0.8.6) (1.26.4)\n",
      "Requirement already satisfied: accelerate in /home/ec2-user/anaconda3/envs/pytorch_p310/lib/python3.10/site-packages (from trl==0.8.6) (0.33.0)\n",
      "Requirement already satisfied: datasets in /home/ec2-user/anaconda3/envs/pytorch_p310/lib/python3.10/site-packages (from trl==0.8.6) (2.19.2)\n",
      "Requirement already satisfied: tyro>=0.5.11 in /home/ec2-user/anaconda3/envs/pytorch_p310/lib/python3.10/site-packages (from trl==0.8.6) (0.8.5)\n",
      "Requirement already satisfied: filelock in /home/ec2-user/anaconda3/envs/pytorch_p310/lib/python3.10/site-packages (from torch>=1.4.0->trl==0.8.6) (3.14.0)\n",
      "Requirement already satisfied: typing-extensions>=4.8.0 in /home/ec2-user/anaconda3/envs/pytorch_p310/lib/python3.10/site-packages (from torch>=1.4.0->trl==0.8.6) (4.12.1)\n",
      "Requirement already satisfied: sympy in /home/ec2-user/anaconda3/envs/pytorch_p310/lib/python3.10/site-packages (from torch>=1.4.0->trl==0.8.6) (1.12)\n",
      "Requirement already satisfied: networkx in /home/ec2-user/anaconda3/envs/pytorch_p310/lib/python3.10/site-packages (from torch>=1.4.0->trl==0.8.6) (3.3)\n",
      "Requirement already satisfied: jinja2 in /home/ec2-user/anaconda3/envs/pytorch_p310/lib/python3.10/site-packages (from torch>=1.4.0->trl==0.8.6) (3.1.4)\n",
      "Requirement already satisfied: fsspec in /home/ec2-user/anaconda3/envs/pytorch_p310/lib/python3.10/site-packages (from torch>=1.4.0->trl==0.8.6) (2024.3.1)\n",
      "Requirement already satisfied: huggingface-hub<1.0,>=0.23.2 in /home/ec2-user/anaconda3/envs/pytorch_p310/lib/python3.10/site-packages (from transformers>=4.31.0->trl==0.8.6) (0.24.5)\n",
      "Requirement already satisfied: packaging>=20.0 in /home/ec2-user/anaconda3/envs/pytorch_p310/lib/python3.10/site-packages (from transformers>=4.31.0->trl==0.8.6) (21.3)\n",
      "Requirement already satisfied: pyyaml>=5.1 in /home/ec2-user/anaconda3/envs/pytorch_p310/lib/python3.10/site-packages (from transformers>=4.31.0->trl==0.8.6) (6.0.1)\n",
      "Requirement already satisfied: regex!=2019.12.17 in /home/ec2-user/anaconda3/envs/pytorch_p310/lib/python3.10/site-packages (from transformers>=4.31.0->trl==0.8.6) (2024.7.24)\n",
      "Requirement already satisfied: requests in /home/ec2-user/anaconda3/envs/pytorch_p310/lib/python3.10/site-packages (from transformers>=4.31.0->trl==0.8.6) (2.32.3)\n",
      "Requirement already satisfied: safetensors>=0.4.1 in /home/ec2-user/anaconda3/envs/pytorch_p310/lib/python3.10/site-packages (from transformers>=4.31.0->trl==0.8.6) (0.4.4)\n",
      "Requirement already satisfied: tokenizers<0.20,>=0.19 in /home/ec2-user/anaconda3/envs/pytorch_p310/lib/python3.10/site-packages (from transformers>=4.31.0->trl==0.8.6) (0.19.1)\n",
      "Requirement already satisfied: tqdm>=4.27 in /home/ec2-user/anaconda3/envs/pytorch_p310/lib/python3.10/site-packages (from transformers>=4.31.0->trl==0.8.6) (4.66.4)\n",
      "Requirement already satisfied: docstring-parser>=0.16 in /home/ec2-user/anaconda3/envs/pytorch_p310/lib/python3.10/site-packages (from tyro>=0.5.11->trl==0.8.6) (0.16)\n",
      "Requirement already satisfied: rich>=11.1.0 in /home/ec2-user/anaconda3/envs/pytorch_p310/lib/python3.10/site-packages (from tyro>=0.5.11->trl==0.8.6) (13.7.1)\n",
      "Requirement already satisfied: shtab>=1.5.6 in /home/ec2-user/anaconda3/envs/pytorch_p310/lib/python3.10/site-packages (from tyro>=0.5.11->trl==0.8.6) (1.7.1)\n"
     ]
    },
    {
     "name": "stdout",
     "output_type": "stream",
     "text": [
      "Requirement already satisfied: psutil in /home/ec2-user/anaconda3/envs/pytorch_p310/lib/python3.10/site-packages (from accelerate->trl==0.8.6) (5.9.8)\n",
      "Requirement already satisfied: pyarrow>=12.0.0 in /home/ec2-user/anaconda3/envs/pytorch_p310/lib/python3.10/site-packages (from datasets->trl==0.8.6) (16.1.0)\n",
      "Requirement already satisfied: pyarrow-hotfix in /home/ec2-user/anaconda3/envs/pytorch_p310/lib/python3.10/site-packages (from datasets->trl==0.8.6) (0.6)\n",
      "Requirement already satisfied: dill<0.3.9,>=0.3.0 in /home/ec2-user/anaconda3/envs/pytorch_p310/lib/python3.10/site-packages (from datasets->trl==0.8.6) (0.3.8)\n",
      "Requirement already satisfied: pandas in /home/ec2-user/anaconda3/envs/pytorch_p310/lib/python3.10/site-packages (from datasets->trl==0.8.6) (1.5.3)\n",
      "Requirement already satisfied: xxhash in /home/ec2-user/anaconda3/envs/pytorch_p310/lib/python3.10/site-packages (from datasets->trl==0.8.6) (3.4.1)\n",
      "Requirement already satisfied: multiprocess in /home/ec2-user/anaconda3/envs/pytorch_p310/lib/python3.10/site-packages (from datasets->trl==0.8.6) (0.70.16)\n",
      "Requirement already satisfied: aiohttp in /home/ec2-user/anaconda3/envs/pytorch_p310/lib/python3.10/site-packages (from datasets->trl==0.8.6) (3.10.1)\n",
      "Requirement already satisfied: aiohappyeyeballs>=2.3.0 in /home/ec2-user/anaconda3/envs/pytorch_p310/lib/python3.10/site-packages (from aiohttp->datasets->trl==0.8.6) (2.3.4)\n",
      "Requirement already satisfied: aiosignal>=1.1.2 in /home/ec2-user/anaconda3/envs/pytorch_p310/lib/python3.10/site-packages (from aiohttp->datasets->trl==0.8.6) (1.3.1)\n",
      "Requirement already satisfied: attrs>=17.3.0 in /home/ec2-user/anaconda3/envs/pytorch_p310/lib/python3.10/site-packages (from aiohttp->datasets->trl==0.8.6) (23.2.0)\n",
      "Requirement already satisfied: frozenlist>=1.1.1 in /home/ec2-user/anaconda3/envs/pytorch_p310/lib/python3.10/site-packages (from aiohttp->datasets->trl==0.8.6) (1.4.1)\n",
      "Requirement already satisfied: multidict<7.0,>=4.5 in /home/ec2-user/anaconda3/envs/pytorch_p310/lib/python3.10/site-packages (from aiohttp->datasets->trl==0.8.6) (6.0.5)\n",
      "Requirement already satisfied: yarl<2.0,>=1.0 in /home/ec2-user/anaconda3/envs/pytorch_p310/lib/python3.10/site-packages (from aiohttp->datasets->trl==0.8.6) (1.9.4)\n",
      "Requirement already satisfied: async-timeout<5.0,>=4.0 in /home/ec2-user/anaconda3/envs/pytorch_p310/lib/python3.10/site-packages (from aiohttp->datasets->trl==0.8.6) (4.0.3)\n",
      "Requirement already satisfied: pyparsing!=3.0.5,>=2.0.2 in /home/ec2-user/anaconda3/envs/pytorch_p310/lib/python3.10/site-packages (from packaging>=20.0->transformers>=4.31.0->trl==0.8.6) (3.1.2)\n",
      "Requirement already satisfied: charset-normalizer<4,>=2 in /home/ec2-user/anaconda3/envs/pytorch_p310/lib/python3.10/site-packages (from requests->transformers>=4.31.0->trl==0.8.6) (3.3.2)\n",
      "Requirement already satisfied: idna<4,>=2.5 in /home/ec2-user/anaconda3/envs/pytorch_p310/lib/python3.10/site-packages (from requests->transformers>=4.31.0->trl==0.8.6) (3.7)\n",
      "Requirement already satisfied: urllib3<3,>=1.21.1 in /home/ec2-user/anaconda3/envs/pytorch_p310/lib/python3.10/site-packages (from requests->transformers>=4.31.0->trl==0.8.6) (2.2.1)\n",
      "Requirement already satisfied: certifi>=2017.4.17 in /home/ec2-user/anaconda3/envs/pytorch_p310/lib/python3.10/site-packages (from requests->transformers>=4.31.0->trl==0.8.6) (2024.2.2)\n",
      "Requirement already satisfied: markdown-it-py>=2.2.0 in /home/ec2-user/anaconda3/envs/pytorch_p310/lib/python3.10/site-packages (from rich>=11.1.0->tyro>=0.5.11->trl==0.8.6) (3.0.0)\n",
      "Requirement already satisfied: pygments<3.0.0,>=2.13.0 in /home/ec2-user/anaconda3/envs/pytorch_p310/lib/python3.10/site-packages (from rich>=11.1.0->tyro>=0.5.11->trl==0.8.6) (2.18.0)\n",
      "Requirement already satisfied: MarkupSafe>=2.0 in /home/ec2-user/anaconda3/envs/pytorch_p310/lib/python3.10/site-packages (from jinja2->torch>=1.4.0->trl==0.8.6) (2.1.5)\n",
      "Requirement already satisfied: python-dateutil>=2.8.1 in /home/ec2-user/anaconda3/envs/pytorch_p310/lib/python3.10/site-packages (from pandas->datasets->trl==0.8.6) (2.9.0)\n",
      "Requirement already satisfied: pytz>=2020.1 in /home/ec2-user/anaconda3/envs/pytorch_p310/lib/python3.10/site-packages (from pandas->datasets->trl==0.8.6) (2024.1)\n",
      "Requirement already satisfied: mpmath>=0.19 in /home/ec2-user/anaconda3/envs/pytorch_p310/lib/python3.10/site-packages (from sympy->torch>=1.4.0->trl==0.8.6) (1.3.0)\n",
      "Requirement already satisfied: mdurl~=0.1 in /home/ec2-user/anaconda3/envs/pytorch_p310/lib/python3.10/site-packages (from markdown-it-py>=2.2.0->rich>=11.1.0->tyro>=0.5.11->trl==0.8.6) (0.1.2)\n",
      "Requirement already satisfied: six>=1.5 in /home/ec2-user/anaconda3/envs/pytorch_p310/lib/python3.10/site-packages (from python-dateutil>=2.8.1->pandas->datasets->trl==0.8.6) (1.16.0)\n",
      "Requirement already satisfied: datasets==2.19.2 in /home/ec2-user/anaconda3/envs/pytorch_p310/lib/python3.10/site-packages (2.19.2)\n",
      "Requirement already satisfied: filelock in /home/ec2-user/anaconda3/envs/pytorch_p310/lib/python3.10/site-packages (from datasets==2.19.2) (3.14.0)\n",
      "Requirement already satisfied: numpy>=1.17 in /home/ec2-user/anaconda3/envs/pytorch_p310/lib/python3.10/site-packages (from datasets==2.19.2) (1.26.4)\n",
      "Requirement already satisfied: pyarrow>=12.0.0 in /home/ec2-user/anaconda3/envs/pytorch_p310/lib/python3.10/site-packages (from datasets==2.19.2) (16.1.0)\n",
      "Requirement already satisfied: pyarrow-hotfix in /home/ec2-user/anaconda3/envs/pytorch_p310/lib/python3.10/site-packages (from datasets==2.19.2) (0.6)\n",
      "Requirement already satisfied: dill<0.3.9,>=0.3.0 in /home/ec2-user/anaconda3/envs/pytorch_p310/lib/python3.10/site-packages (from datasets==2.19.2) (0.3.8)\n",
      "Requirement already satisfied: pandas in /home/ec2-user/anaconda3/envs/pytorch_p310/lib/python3.10/site-packages (from datasets==2.19.2) (1.5.3)\n",
      "Requirement already satisfied: requests>=2.32.1 in /home/ec2-user/anaconda3/envs/pytorch_p310/lib/python3.10/site-packages (from datasets==2.19.2) (2.32.3)\n",
      "Requirement already satisfied: tqdm>=4.62.1 in /home/ec2-user/anaconda3/envs/pytorch_p310/lib/python3.10/site-packages (from datasets==2.19.2) (4.66.4)\n",
      "Requirement already satisfied: xxhash in /home/ec2-user/anaconda3/envs/pytorch_p310/lib/python3.10/site-packages (from datasets==2.19.2) (3.4.1)\n",
      "Requirement already satisfied: multiprocess in /home/ec2-user/anaconda3/envs/pytorch_p310/lib/python3.10/site-packages (from datasets==2.19.2) (0.70.16)\n",
      "Requirement already satisfied: fsspec<=2024.3.1,>=2023.1.0 in /home/ec2-user/anaconda3/envs/pytorch_p310/lib/python3.10/site-packages (from fsspec[http]<=2024.3.1,>=2023.1.0->datasets==2.19.2) (2024.3.1)\n",
      "Requirement already satisfied: aiohttp in /home/ec2-user/anaconda3/envs/pytorch_p310/lib/python3.10/site-packages (from datasets==2.19.2) (3.10.1)\n",
      "Requirement already satisfied: huggingface-hub>=0.21.2 in /home/ec2-user/anaconda3/envs/pytorch_p310/lib/python3.10/site-packages (from datasets==2.19.2) (0.24.5)\n",
      "Requirement already satisfied: packaging in /home/ec2-user/anaconda3/envs/pytorch_p310/lib/python3.10/site-packages (from datasets==2.19.2) (21.3)\n",
      "Requirement already satisfied: pyyaml>=5.1 in /home/ec2-user/anaconda3/envs/pytorch_p310/lib/python3.10/site-packages (from datasets==2.19.2) (6.0.1)\n",
      "Requirement already satisfied: aiohappyeyeballs>=2.3.0 in /home/ec2-user/anaconda3/envs/pytorch_p310/lib/python3.10/site-packages (from aiohttp->datasets==2.19.2) (2.3.4)\n",
      "Requirement already satisfied: aiosignal>=1.1.2 in /home/ec2-user/anaconda3/envs/pytorch_p310/lib/python3.10/site-packages (from aiohttp->datasets==2.19.2) (1.3.1)\n",
      "Requirement already satisfied: attrs>=17.3.0 in /home/ec2-user/anaconda3/envs/pytorch_p310/lib/python3.10/site-packages (from aiohttp->datasets==2.19.2) (23.2.0)\n",
      "Requirement already satisfied: frozenlist>=1.1.1 in /home/ec2-user/anaconda3/envs/pytorch_p310/lib/python3.10/site-packages (from aiohttp->datasets==2.19.2) (1.4.1)\n",
      "Requirement already satisfied: multidict<7.0,>=4.5 in /home/ec2-user/anaconda3/envs/pytorch_p310/lib/python3.10/site-packages (from aiohttp->datasets==2.19.2) (6.0.5)\n",
      "Requirement already satisfied: yarl<2.0,>=1.0 in /home/ec2-user/anaconda3/envs/pytorch_p310/lib/python3.10/site-packages (from aiohttp->datasets==2.19.2) (1.9.4)\n",
      "Requirement already satisfied: async-timeout<5.0,>=4.0 in /home/ec2-user/anaconda3/envs/pytorch_p310/lib/python3.10/site-packages (from aiohttp->datasets==2.19.2) (4.0.3)\n"
     ]
    },
    {
     "name": "stdout",
     "output_type": "stream",
     "text": [
      "Requirement already satisfied: typing-extensions>=3.7.4.3 in /home/ec2-user/anaconda3/envs/pytorch_p310/lib/python3.10/site-packages (from huggingface-hub>=0.21.2->datasets==2.19.2) (4.12.1)\n",
      "Requirement already satisfied: pyparsing!=3.0.5,>=2.0.2 in /home/ec2-user/anaconda3/envs/pytorch_p310/lib/python3.10/site-packages (from packaging->datasets==2.19.2) (3.1.2)\n",
      "Requirement already satisfied: charset-normalizer<4,>=2 in /home/ec2-user/anaconda3/envs/pytorch_p310/lib/python3.10/site-packages (from requests>=2.32.1->datasets==2.19.2) (3.3.2)\n",
      "Requirement already satisfied: idna<4,>=2.5 in /home/ec2-user/anaconda3/envs/pytorch_p310/lib/python3.10/site-packages (from requests>=2.32.1->datasets==2.19.2) (3.7)\n",
      "Requirement already satisfied: urllib3<3,>=1.21.1 in /home/ec2-user/anaconda3/envs/pytorch_p310/lib/python3.10/site-packages (from requests>=2.32.1->datasets==2.19.2) (2.2.1)\n",
      "Requirement already satisfied: certifi>=2017.4.17 in /home/ec2-user/anaconda3/envs/pytorch_p310/lib/python3.10/site-packages (from requests>=2.32.1->datasets==2.19.2) (2024.2.2)\n",
      "Requirement already satisfied: python-dateutil>=2.8.1 in /home/ec2-user/anaconda3/envs/pytorch_p310/lib/python3.10/site-packages (from pandas->datasets==2.19.2) (2.9.0)\n",
      "Requirement already satisfied: pytz>=2020.1 in /home/ec2-user/anaconda3/envs/pytorch_p310/lib/python3.10/site-packages (from pandas->datasets==2.19.2) (2024.1)\n",
      "Requirement already satisfied: six>=1.5 in /home/ec2-user/anaconda3/envs/pytorch_p310/lib/python3.10/site-packages (from python-dateutil>=2.8.1->pandas->datasets==2.19.2) (1.16.0)\n",
      "Requirement already satisfied: transformers==4.43.3 in /home/ec2-user/anaconda3/envs/pytorch_p310/lib/python3.10/site-packages (4.43.3)\n",
      "Requirement already satisfied: filelock in /home/ec2-user/anaconda3/envs/pytorch_p310/lib/python3.10/site-packages (from transformers==4.43.3) (3.14.0)\n",
      "Requirement already satisfied: huggingface-hub<1.0,>=0.23.2 in /home/ec2-user/anaconda3/envs/pytorch_p310/lib/python3.10/site-packages (from transformers==4.43.3) (0.24.5)\n",
      "Requirement already satisfied: numpy>=1.17 in /home/ec2-user/anaconda3/envs/pytorch_p310/lib/python3.10/site-packages (from transformers==4.43.3) (1.26.4)\n",
      "Requirement already satisfied: packaging>=20.0 in /home/ec2-user/anaconda3/envs/pytorch_p310/lib/python3.10/site-packages (from transformers==4.43.3) (21.3)\n",
      "Requirement already satisfied: pyyaml>=5.1 in /home/ec2-user/anaconda3/envs/pytorch_p310/lib/python3.10/site-packages (from transformers==4.43.3) (6.0.1)\n",
      "Requirement already satisfied: regex!=2019.12.17 in /home/ec2-user/anaconda3/envs/pytorch_p310/lib/python3.10/site-packages (from transformers==4.43.3) (2024.7.24)\n",
      "Requirement already satisfied: requests in /home/ec2-user/anaconda3/envs/pytorch_p310/lib/python3.10/site-packages (from transformers==4.43.3) (2.32.3)\n",
      "Requirement already satisfied: safetensors>=0.4.1 in /home/ec2-user/anaconda3/envs/pytorch_p310/lib/python3.10/site-packages (from transformers==4.43.3) (0.4.4)\n",
      "Requirement already satisfied: tokenizers<0.20,>=0.19 in /home/ec2-user/anaconda3/envs/pytorch_p310/lib/python3.10/site-packages (from transformers==4.43.3) (0.19.1)\n",
      "Requirement already satisfied: tqdm>=4.27 in /home/ec2-user/anaconda3/envs/pytorch_p310/lib/python3.10/site-packages (from transformers==4.43.3) (4.66.4)\n",
      "Requirement already satisfied: fsspec>=2023.5.0 in /home/ec2-user/anaconda3/envs/pytorch_p310/lib/python3.10/site-packages (from huggingface-hub<1.0,>=0.23.2->transformers==4.43.3) (2024.3.1)\n",
      "Requirement already satisfied: typing-extensions>=3.7.4.3 in /home/ec2-user/anaconda3/envs/pytorch_p310/lib/python3.10/site-packages (from huggingface-hub<1.0,>=0.23.2->transformers==4.43.3) (4.12.1)\n",
      "Requirement already satisfied: pyparsing!=3.0.5,>=2.0.2 in /home/ec2-user/anaconda3/envs/pytorch_p310/lib/python3.10/site-packages (from packaging>=20.0->transformers==4.43.3) (3.1.2)\n",
      "Requirement already satisfied: charset-normalizer<4,>=2 in /home/ec2-user/anaconda3/envs/pytorch_p310/lib/python3.10/site-packages (from requests->transformers==4.43.3) (3.3.2)\n",
      "Requirement already satisfied: idna<4,>=2.5 in /home/ec2-user/anaconda3/envs/pytorch_p310/lib/python3.10/site-packages (from requests->transformers==4.43.3) (3.7)\n",
      "Requirement already satisfied: urllib3<3,>=1.21.1 in /home/ec2-user/anaconda3/envs/pytorch_p310/lib/python3.10/site-packages (from requests->transformers==4.43.3) (2.2.1)\n",
      "Requirement already satisfied: certifi>=2017.4.17 in /home/ec2-user/anaconda3/envs/pytorch_p310/lib/python3.10/site-packages (from requests->transformers==4.43.3) (2024.2.2)\n",
      "Requirement already satisfied: tensorboard==2.17.0 in /home/ec2-user/anaconda3/envs/pytorch_p310/lib/python3.10/site-packages (2.17.0)\n",
      "Requirement already satisfied: absl-py>=0.4 in /home/ec2-user/anaconda3/envs/pytorch_p310/lib/python3.10/site-packages (from tensorboard==2.17.0) (2.1.0)\n",
      "Requirement already satisfied: grpcio>=1.48.2 in /home/ec2-user/anaconda3/envs/pytorch_p310/lib/python3.10/site-packages (from tensorboard==2.17.0) (1.65.4)\n",
      "Requirement already satisfied: markdown>=2.6.8 in /home/ec2-user/anaconda3/envs/pytorch_p310/lib/python3.10/site-packages (from tensorboard==2.17.0) (3.6)\n",
      "Requirement already satisfied: numpy>=1.12.0 in /home/ec2-user/anaconda3/envs/pytorch_p310/lib/python3.10/site-packages (from tensorboard==2.17.0) (1.26.4)\n",
      "Requirement already satisfied: protobuf!=4.24.0,<5.0.0,>=3.19.6 in /home/ec2-user/anaconda3/envs/pytorch_p310/lib/python3.10/site-packages (from tensorboard==2.17.0) (4.25.3)\n",
      "Requirement already satisfied: setuptools>=41.0.0 in /home/ec2-user/anaconda3/envs/pytorch_p310/lib/python3.10/site-packages (from tensorboard==2.17.0) (69.5.1)\n",
      "Requirement already satisfied: six>1.9 in /home/ec2-user/anaconda3/envs/pytorch_p310/lib/python3.10/site-packages (from tensorboard==2.17.0) (1.16.0)\n",
      "Requirement already satisfied: tensorboard-data-server<0.8.0,>=0.7.0 in /home/ec2-user/anaconda3/envs/pytorch_p310/lib/python3.10/site-packages (from tensorboard==2.17.0) (0.7.2)\n",
      "Requirement already satisfied: werkzeug>=1.0.1 in /home/ec2-user/anaconda3/envs/pytorch_p310/lib/python3.10/site-packages (from tensorboard==2.17.0) (3.0.3)\n",
      "Requirement already satisfied: MarkupSafe>=2.1.1 in /home/ec2-user/anaconda3/envs/pytorch_p310/lib/python3.10/site-packages (from werkzeug>=1.0.1->tensorboard==2.17.0) (2.1.5)\n",
      "Requirement already satisfied: accelerate==0.33.0 in /home/ec2-user/anaconda3/envs/pytorch_p310/lib/python3.10/site-packages (0.33.0)\n",
      "Requirement already satisfied: numpy<2.0.0,>=1.17 in /home/ec2-user/anaconda3/envs/pytorch_p310/lib/python3.10/site-packages (from accelerate==0.33.0) (1.26.4)\n",
      "Requirement already satisfied: packaging>=20.0 in /home/ec2-user/anaconda3/envs/pytorch_p310/lib/python3.10/site-packages (from accelerate==0.33.0) (21.3)\n",
      "Requirement already satisfied: psutil in /home/ec2-user/anaconda3/envs/pytorch_p310/lib/python3.10/site-packages (from accelerate==0.33.0) (5.9.8)\n",
      "Requirement already satisfied: pyyaml in /home/ec2-user/anaconda3/envs/pytorch_p310/lib/python3.10/site-packages (from accelerate==0.33.0) (6.0.1)\n",
      "Requirement already satisfied: torch>=1.10.0 in /home/ec2-user/anaconda3/envs/pytorch_p310/lib/python3.10/site-packages (from accelerate==0.33.0) (2.2.0)\n",
      "Requirement already satisfied: huggingface-hub>=0.21.0 in /home/ec2-user/anaconda3/envs/pytorch_p310/lib/python3.10/site-packages (from accelerate==0.33.0) (0.24.5)\n",
      "Requirement already satisfied: safetensors>=0.3.1 in /home/ec2-user/anaconda3/envs/pytorch_p310/lib/python3.10/site-packages (from accelerate==0.33.0) (0.4.4)\n",
      "Requirement already satisfied: filelock in /home/ec2-user/anaconda3/envs/pytorch_p310/lib/python3.10/site-packages (from huggingface-hub>=0.21.0->accelerate==0.33.0) (3.14.0)\n",
      "Requirement already satisfied: fsspec>=2023.5.0 in /home/ec2-user/anaconda3/envs/pytorch_p310/lib/python3.10/site-packages (from huggingface-hub>=0.21.0->accelerate==0.33.0) (2024.3.1)\n",
      "Requirement already satisfied: requests in /home/ec2-user/anaconda3/envs/pytorch_p310/lib/python3.10/site-packages (from huggingface-hub>=0.21.0->accelerate==0.33.0) (2.32.3)\n",
      "Requirement already satisfied: tqdm>=4.42.1 in /home/ec2-user/anaconda3/envs/pytorch_p310/lib/python3.10/site-packages (from huggingface-hub>=0.21.0->accelerate==0.33.0) (4.66.4)\n",
      "Requirement already satisfied: typing-extensions>=3.7.4.3 in /home/ec2-user/anaconda3/envs/pytorch_p310/lib/python3.10/site-packages (from huggingface-hub>=0.21.0->accelerate==0.33.0) (4.12.1)\n",
      "Requirement already satisfied: pyparsing!=3.0.5,>=2.0.2 in /home/ec2-user/anaconda3/envs/pytorch_p310/lib/python3.10/site-packages (from packaging>=20.0->accelerate==0.33.0) (3.1.2)\n"
     ]
    },
    {
     "name": "stdout",
     "output_type": "stream",
     "text": [
      "Requirement already satisfied: sympy in /home/ec2-user/anaconda3/envs/pytorch_p310/lib/python3.10/site-packages (from torch>=1.10.0->accelerate==0.33.0) (1.12)\n",
      "Requirement already satisfied: networkx in /home/ec2-user/anaconda3/envs/pytorch_p310/lib/python3.10/site-packages (from torch>=1.10.0->accelerate==0.33.0) (3.3)\n",
      "Requirement already satisfied: jinja2 in /home/ec2-user/anaconda3/envs/pytorch_p310/lib/python3.10/site-packages (from torch>=1.10.0->accelerate==0.33.0) (3.1.4)\n",
      "Requirement already satisfied: MarkupSafe>=2.0 in /home/ec2-user/anaconda3/envs/pytorch_p310/lib/python3.10/site-packages (from jinja2->torch>=1.10.0->accelerate==0.33.0) (2.1.5)\n",
      "Requirement already satisfied: charset-normalizer<4,>=2 in /home/ec2-user/anaconda3/envs/pytorch_p310/lib/python3.10/site-packages (from requests->huggingface-hub>=0.21.0->accelerate==0.33.0) (3.3.2)\n",
      "Requirement already satisfied: idna<4,>=2.5 in /home/ec2-user/anaconda3/envs/pytorch_p310/lib/python3.10/site-packages (from requests->huggingface-hub>=0.21.0->accelerate==0.33.0) (3.7)\n",
      "Requirement already satisfied: urllib3<3,>=1.21.1 in /home/ec2-user/anaconda3/envs/pytorch_p310/lib/python3.10/site-packages (from requests->huggingface-hub>=0.21.0->accelerate==0.33.0) (2.2.1)\n",
      "Requirement already satisfied: certifi>=2017.4.17 in /home/ec2-user/anaconda3/envs/pytorch_p310/lib/python3.10/site-packages (from requests->huggingface-hub>=0.21.0->accelerate==0.33.0) (2024.2.2)\n",
      "Requirement already satisfied: mpmath>=0.19 in /home/ec2-user/anaconda3/envs/pytorch_p310/lib/python3.10/site-packages (from sympy->torch>=1.10.0->accelerate==0.33.0) (1.3.0)\n"
     ]
    }
   ],
   "source": [
    "!pip3 install bitsandbytes==0.41.3\n",
    "!pip3 install peft==0.12.0\n",
    "!pip3 install trl==0.8.6\n",
    "!pip3 install datasets==2.19.2\n",
    "!pip3 install transformers==4.43.3\n",
    "!pip3 install tensorboard==2.17.0\n",
    "!pip3 install accelerate==0.33.0"
   ]
  },
  {
   "cell_type": "code",
   "execution_count": 2,
   "metadata": {
    "execution": {
     "iopub.execute_input": "2024-08-06T09:07:28.539785Z",
     "iopub.status.busy": "2024-08-06T09:07:28.538860Z",
     "iopub.status.idle": "2024-08-06T09:07:46.578483Z",
     "shell.execute_reply": "2024-08-06T09:07:46.577661Z",
     "shell.execute_reply.started": "2024-08-06T09:07:28.539749Z"
    }
   },
   "outputs": [],
   "source": [
    "import os\n",
    "import torch\n",
    "\n",
    "from datasets import load_dataset\n",
    "from transformers import (\n",
    "    TrainingArguments,\n",
    "    AutoModelForCausalLM,\n",
    "    AutoTokenizer,\n",
    "    pipeline,\n",
    "    logging,\n",
    "    BitsAndBytesConfig\n",
    ")\n",
    "from trl import SFTTrainer\n",
    "from peft import LoraConfig, get_peft_model, prepare_model_for_kbit_training"
   ]
  },
  {
   "cell_type": "code",
   "execution_count": 3,
   "metadata": {
    "execution": {
     "iopub.execute_input": "2024-08-06T09:07:46.580517Z",
     "iopub.status.busy": "2024-08-06T09:07:46.579922Z",
     "iopub.status.idle": "2024-08-06T09:07:46.586633Z",
     "shell.execute_reply": "2024-08-06T09:07:46.585831Z",
     "shell.execute_reply.started": "2024-08-06T09:07:46.580490Z"
    }
   },
   "outputs": [],
   "source": [
    "dataset_name = \"Vezora/Tested-22k-Python-Alpaca\"\n",
    "model_id = \"openai-community/gpt2\""
   ]
  },
  {
   "cell_type": "markdown",
   "metadata": {},
   "source": [
    "# Load tokenizer"
   ]
  },
  {
   "cell_type": "code",
   "execution_count": 4,
   "metadata": {
    "execution": {
     "iopub.execute_input": "2024-08-06T09:07:46.588136Z",
     "iopub.status.busy": "2024-08-06T09:07:46.587851Z",
     "iopub.status.idle": "2024-08-06T09:07:46.624936Z",
     "shell.execute_reply": "2024-08-06T09:07:46.624083Z",
     "shell.execute_reply.started": "2024-08-06T09:07:46.588113Z"
    }
   },
   "outputs": [],
   "source": [
    "def load_tokenizer(model_id):\n",
    "    tokenizer = AutoTokenizer.from_pretrained(model_id, trust_remote_code=True, use_fast=False)\n",
    "    tokenizer.pad_token = tokenizer.eos_token\n",
    "    tokenizer.padding_side = \"right\"\n",
    "    return tokenizer"
   ]
  },
  {
   "cell_type": "markdown",
   "metadata": {},
   "source": [
    "# Quantization config for QLoRA"
   ]
  },
  {
   "cell_type": "code",
   "execution_count": 5,
   "metadata": {
    "execution": {
     "iopub.execute_input": "2024-08-06T09:07:46.627914Z",
     "iopub.status.busy": "2024-08-06T09:07:46.627288Z",
     "iopub.status.idle": "2024-08-06T09:07:46.635178Z",
     "shell.execute_reply": "2024-08-06T09:07:46.634436Z",
     "shell.execute_reply.started": "2024-08-06T09:07:46.627888Z"
    }
   },
   "outputs": [],
   "source": [
    "bnb_config = BitsAndBytesConfig(\n",
    "    load_in_4bit=True,\n",
    "    bnb_4bit_quant_type=\"nf4\",\n",
    "    bnb_4bit_compute_dtype=torch.bfloat16)"
   ]
  },
  {
   "cell_type": "markdown",
   "metadata": {},
   "source": [
    "# Load model"
   ]
  },
  {
   "cell_type": "code",
   "execution_count": 6,
   "metadata": {
    "execution": {
     "iopub.execute_input": "2024-08-06T09:07:46.636375Z",
     "iopub.status.busy": "2024-08-06T09:07:46.636119Z",
     "iopub.status.idle": "2024-08-06T09:07:46.642824Z",
     "shell.execute_reply": "2024-08-06T09:07:46.642077Z",
     "shell.execute_reply.started": "2024-08-06T09:07:46.636353Z"
    }
   },
   "outputs": [],
   "source": [
    "def load_model(model_id, is_local=False):\n",
    "    print(\"Loading: \", model_id)\n",
    "    model = AutoModelForCausalLM.from_pretrained(\n",
    "        model_id, \n",
    "        #load_in_8bit=True,\n",
    "        #quantization_config=bnb_config,\n",
    "        device_map={\"\": 0},\n",
    "        local_files_only = is_local\n",
    "    )\n",
    "    \n",
    "    model.config.use_cache = False\n",
    "    model.config.pretraining_tp = 1\n",
    "    return model"
   ]
  },
  {
   "cell_type": "markdown",
   "metadata": {},
   "source": [
    "# Generate Inference"
   ]
  },
  {
   "cell_type": "code",
   "execution_count": 7,
   "metadata": {
    "execution": {
     "iopub.execute_input": "2024-08-06T09:07:46.644283Z",
     "iopub.status.busy": "2024-08-06T09:07:46.643879Z",
     "iopub.status.idle": "2024-08-06T09:07:46.651963Z",
     "shell.execute_reply": "2024-08-06T09:07:46.651242Z",
     "shell.execute_reply.started": "2024-08-06T09:07:46.644253Z"
    }
   },
   "outputs": [],
   "source": [
    "def generate_inference(model, tokenizer):\n",
    "    pipe = pipeline(task='text-generation', model=model, tokenizer=tokenizer, max_length=256)\n",
    "\n",
    "    for prompt in prompts:\n",
    "        result = pipe(prompt)\n",
    "        print(\"******************************* PROMPT *******************************\")\n",
    "        print(prompt)\n",
    "        print(\"******************************* Inference *******************************\")\n",
    "        print(result[0]['generated_text'])\n",
    "        print(\"=\"*100)"
   ]
  },
  {
   "cell_type": "markdown",
   "metadata": {},
   "source": [
    "# Test Inference Prompts"
   ]
  },
  {
   "cell_type": "code",
   "execution_count": 8,
   "metadata": {
    "execution": {
     "iopub.execute_input": "2024-08-06T09:07:46.653345Z",
     "iopub.status.busy": "2024-08-06T09:07:46.653009Z",
     "iopub.status.idle": "2024-08-06T09:07:46.662714Z",
     "shell.execute_reply": "2024-08-06T09:07:46.661871Z",
     "shell.execute_reply.started": "2024-08-06T09:07:46.653315Z"
    }
   },
   "outputs": [],
   "source": [
    "prompts = [\n",
    "    \"\"\"Can you design a program in Python that can predict the likelihood of a certain material becoming unstable under high pressure and temperature conditions? This can be calculated using the Gurney equation, which takes into account parameters such as the chemical composition and crystal structure of the material. Additionally, can you provide a real-world scenario where this program could be applied in the field of material science and engineering?\"\"\",\n",
    "    \"\"\"Write a Python function that returns the maximum value of the given set of integers: 1, 5, 23, and 9. The function should only use one line of code and must utilize the lambda function. Additionally, the function should be able to handle any set of integers provided as input, and should return an error message if any non-integer values are detected. The output should be displayed in a formatted table with the following columns: \"Input Set\", \"Maximum Value\". The table should also include a row for the given set of integers as well as a row for a randomly generated set of 10 integers between 1 and 100. Lastly, the function should be written in SQL and should be able to query a database table containing the input sets and their corresponding maximum values.\"\"\",\n",
    "    \"\"\"Create a function that takes two parameters, a number and a string, and returns an array with those two values in it. The string parameter should be checked if it is a valid string and if it contains only alphabetical characters. If the string is not valid (length less than 10 characters) or contains non-alphabetical characters, the function should return an empty array. Additionally, the number parameter should be restricted to a range between -1000 and 1000 (inclusive). The function should also check if the number is a prime number and return an empty array if it is not.\"\"\",\n",
    "    \"\"\"Given a string, convert it to upper case using only basic string manipulation operations. The string may contain punctuation marks, special characters, and spaces. String: This string should be in upper case!\"\"\",\n",
    "    \"\"\"Find the sum of the first 1000 prime numbers that are greater than 100.\"\"\",\n",
    "    \"\"\"Provide a function that finds the length of a string, but without using any built-in string length functions or methods, and without using any iteration or recursion.\"\"\",\n",
    "    \"\"\"Create a function that removes duplicates from an array and returns an array of the unique values. The function should only use O(1) additional space and have a time complexity of O(n), where n is the length of the input array. The input array can contain integers, floating-point numbers, strings, and nested arrays. The output array should be sorted in descending order. Additionally, the function should handle nested arrays correctly by recursively flattening them before removing duplicates.\"\"\",\n",
    "    \"\"\"Create a 3x4 NumPy array of random integers from 0 to 5, where each row should have at least one unique value.\"\"\",\n",
    "    \"\"\"Find the index of the element 'c' in the following list, but the list may contain duplicates and the element 'c' may appear multiple times.\"\"\",\n",
    "    \"\"\"Write a function for finding the minimum value in a given array, with a time complexity requirement of O(n log n), where n is the length of the array.\"\"\"\n",
    "]"
   ]
  },
  {
   "cell_type": "markdown",
   "metadata": {},
   "source": [
    "# Pre Fine-tuning inference"
   ]
  },
  {
   "cell_type": "code",
   "execution_count": 9,
   "metadata": {
    "execution": {
     "iopub.execute_input": "2024-08-06T09:07:46.664021Z",
     "iopub.status.busy": "2024-08-06T09:07:46.663765Z",
     "iopub.status.idle": "2024-08-06T09:08:08.335996Z",
     "shell.execute_reply": "2024-08-06T09:08:08.335059Z",
     "shell.execute_reply.started": "2024-08-06T09:07:46.664000Z"
    }
   },
   "outputs": [
    {
     "name": "stdout",
     "output_type": "stream",
     "text": [
      "Loading:  openai-community/gpt2\n"
     ]
    },
    {
     "name": "stderr",
     "output_type": "stream",
     "text": [
      "Truncation was not explicitly activated but `max_length` is provided a specific value, please use `truncation=True` to explicitly truncate examples to max length. Defaulting to 'longest_first' truncation strategy. If you encode pairs of sequences (GLUE-style) with the tokenizer you can select this strategy more precisely by providing a specific strategy to `truncation`.\n"
     ]
    },
    {
     "name": "stdout",
     "output_type": "stream",
     "text": [
      "******************************* PROMPT *******************************\n",
      "Can you design a program in Python that can predict the likelihood of a certain material becoming unstable under high pressure and temperature conditions? This can be calculated using the Gurney equation, which takes into account parameters such as the chemical composition and crystal structure of the material. Additionally, can you provide a real-world scenario where this program could be applied in the field of material science and engineering?\n",
      "******************************* Inference *******************************\n",
      "Can you design a program in Python that can predict the likelihood of a certain material becoming unstable under high pressure and temperature conditions? This can be calculated using the Gurney equation, which takes into account parameters such as the chemical composition and crystal structure of the material. Additionally, can you provide a real-world scenario where this program could be applied in the field of material science and engineering?\n",
      "\n",
      "We are working hard on this so far, we have many questions on this; however, if you can answer all of those questions a user would send us a response using these answers. And what can we do for you?\n",
      "\n",
      "As mentioned above, for our project we are currently working on the following:\n",
      "\n",
      "Building the first generation of modular computers, and also creating new computer architectures. What about that same machine, which will be able to run a number of different operating systems (Windows, Linux, Mac OS X)?\n",
      "\n",
      "Support for cross platform development via the GNU Lesser General Public License (GPL) or Open Source License (OSS). What's the best way to help with open source projects? What projects need you the most?\n",
      "\n",
      "In the meantime, here are some of the tools that can help you run your own projects:\n",
      "\n",
      "Our tools\n",
      "====================================================================================================\n",
      "******************************* PROMPT *******************************\n",
      "Write a Python function that returns the maximum value of the given set of integers: 1, 5, 23, and 9. The function should only use one line of code and must utilize the lambda function. Additionally, the function should be able to handle any set of integers provided as input, and should return an error message if any non-integer values are detected. The output should be displayed in a formatted table with the following columns: \"Input Set\", \"Maximum Value\". The table should also include a row for the given set of integers as well as a row for a randomly generated set of 10 integers between 1 and 100. Lastly, the function should be written in SQL and should be able to query a database table containing the input sets and their corresponding maximum values.\n",
      "******************************* Inference *******************************\n",
      "Write a Python function that returns the maximum value of the given set of integers: 1, 5, 23, and 9. The function should only use one line of code and must utilize the lambda function. Additionally, the function should be able to handle any set of integers provided as input, and should return an error message if any non-integer values are detected. The output should be displayed in a formatted table with the following columns: \"Input Set\", \"Maximum Value\". The table should also include a row for the given set of integers as well as a row for a randomly generated set of 10 integers between 1 and 100. Lastly, the function should be written in SQL and should be able to query a database table containing the input sets and their corresponding maximum values.\n",
      "\n",
      "2.4.5. Variables and arrays¶\n",
      "\n",
      "The variables and array functions from this definition should be used in conjunction with the data to perform the following. Variables from this definition are not used on all platforms. This is done by using the variable name or name value pair in one of the functions in the definition.\n",
      "\n",
      "If you are not familiar with object programming languages, the following is already obvious: object code is much more complex—the value pair in each variable can be\n",
      "====================================================================================================\n",
      "******************************* PROMPT *******************************\n",
      "Create a function that takes two parameters, a number and a string, and returns an array with those two values in it. The string parameter should be checked if it is a valid string and if it contains only alphabetical characters. If the string is not valid (length less than 10 characters) or contains non-alphabetical characters, the function should return an empty array. Additionally, the number parameter should be restricted to a range between -1000 and 1000 (inclusive). The function should also check if the number is a prime number and return an empty array if it is not.\n",
      "******************************* Inference *******************************\n",
      "Create a function that takes two parameters, a number and a string, and returns an array with those two values in it. The string parameter should be checked if it is a valid string and if it contains only alphabetical characters. If the string is not valid (length less than 10 characters) or contains non-alphabetical characters, the function should return an empty array. Additionally, the number parameter should be restricted to a range between -1000 and 1000 (inclusive). The function should also check if the number is a prime number and return an empty array if it is not. If the number is a number, a number returned by this function should be returned. The integer parameter should be a simple array with an alpha channel and the value in lowercase letters. This parameter controls how many values the function can return based on the length of the number and the beta channel, the number of integers that may be returned (zero, number); and the string parameter. If the number is a non-alphabetical number and the string has a digit of 0, the function should return an empty array. A string object is a vector that represents the numeric values from the given string. In this environment, if a string containing a number is null, the number returned is\n",
      "====================================================================================================\n",
      "******************************* PROMPT *******************************\n",
      "Given a string, convert it to upper case using only basic string manipulation operations. The string may contain punctuation marks, special characters, and spaces. String: This string should be in upper case!\n",
      "******************************* Inference *******************************\n",
      "Given a string, convert it to upper case using only basic string manipulation operations. The string may contain punctuation marks, special characters, and spaces. String: This string should be in upper case!\n",
      "\n",
      "string: This string should be inupper case! String: This string (and some other text that uses U+00A4) and may be considered a literal string. If you have an empty string, then the rest must be treated as an identifier.\n",
      "\n",
      "1\n",
      "\n",
      "2\n",
      "\n",
      "3\n",
      "\n",
      " 4\n",
      "\n",
      "5\n",
      "\n",
      "}\n",
      "\n",
      "A number of other strings may be created. You must use a number of characters to create a new string. For example, you may use strings with \"$\" characters.\n",
      "\n",
      "1 string / $ \"\n",
      "\n",
      "$, $, \"\n",
      "\n",
      "$, $ \" for string.\n",
      "\n",
      "\" (without spaces)\n",
      "\n",
      "\" (other characters) \"\n",
      "\n",
      "\" (with space) String: This string should have a space in it!\n",
      "\n",
      "\" String: This string and/or \"$\" characters should be treated as a literate string. You must use strings with \"\" characters. For example, a \"*$\" character, and/or a \"^$\" character\n",
      "====================================================================================================\n",
      "******************************* PROMPT *******************************\n",
      "Find the sum of the first 1000 prime numbers that are greater than 100.\n",
      "******************************* Inference *******************************\n",
      "Find the sum of the first 1000 prime numbers that are greater than 100.\n",
      "\n",
      "\n",
      "1 1 4 (100) × 100\n",
      "\n",
      "You'll get a score of 10.5. This is the same score you got when you called the calculator.\n",
      "\n",
      "If you called and asked the calculator for the exact score, it wouldn't be so different than the score you got with the calculator.\n",
      "\n",
      "\n",
      "In other words, if you call the calculator the same way you said you'd call a calculator the same way you said the calculator, and you also called the calculator correctly, you should get the same score. Since this could only just be because you called the calculator incorrectly, though, you're really missing out on something.\n",
      "\n",
      "\n",
      "If you put more text on this calculator that explains how you could do this, you'll get similar results.\n",
      "\n",
      "\n",
      "Example: If I just type in all these numbers.\n",
      "\n",
      "\n",
      "100,000 10,000 6,999 5,999 1,999 3,999 8,999 10,999 25,999 50,999 100,000 7,999 11,999 10,9999 1,999\n",
      "\n",
      "It's not possible to change these results.\n",
      "\n",
      "\n",
      "For example, if I just used the numbers and left the digits\n",
      "====================================================================================================\n"
     ]
    },
    {
     "name": "stdout",
     "output_type": "stream",
     "text": [
      "******************************* PROMPT *******************************\n",
      "Provide a function that finds the length of a string, but without using any built-in string length functions or methods, and without using any iteration or recursion.\n",
      "******************************* Inference *******************************\n",
      "Provide a function that finds the length of a string, but without using any built-in string length functions or methods, and without using any iteration or recursion. If the value is not zero, then append the value to the end of the string string and return the value. If the length is not longer than or equal to zero, then append the value to the end of the string which does not support a value of zero. For strings of length 0 to 255 inclusive, append the value to the end of the string in which the string has an index in which it may be found. An error on this string is a message that includes a zero-pointed value or the same line as an exit for the program.\n",
      "\n",
      "In a special case, the first argument, a string string, shall, regardless of the argument type, contain characters that are not Unicode characters. A string which contains an integer or number, an e-mail address, a special character, or more may be used.\n",
      "\n",
      "If the length of an integer can be assigned to it by the value of the optional attribute, then an integer, a string char, or more, as appropriate, is assigned the same length as an integer, a string, or both. Otherwise, an\n",
      "====================================================================================================\n",
      "******************************* PROMPT *******************************\n",
      "Create a function that removes duplicates from an array and returns an array of the unique values. The function should only use O(1) additional space and have a time complexity of O(n), where n is the length of the input array. The input array can contain integers, floating-point numbers, strings, and nested arrays. The output array should be sorted in descending order. Additionally, the function should handle nested arrays correctly by recursively flattening them before removing duplicates.\n",
      "******************************* Inference *******************************\n",
      "Create a function that removes duplicates from an array and returns an array of the unique values. The function should only use O(1) additional space and have a time complexity of O(n), where n is the length of the input array. The input array can contain integers, floating-point numbers, strings, and nested arrays. The output array should be sorted in descending order. Additionally, the function should handle nested arrays correctly by recursively flattening them before removing duplicates.\n",
      "\n",
      "In the above example we created an input Array which contains the original 4 elements of the input array. We then returned the remaining three elements in the input array: an integer, an integer between 2, 4, and 12, and an integer between 2, 4, and 24.\n",
      "\n",
      "With the current example, we want two more elements to contain: an integer between 2, 4, and 12, and an integer between 2, 4, and 24. We are not actually doing this, but rather simply recursively removing duplicates.\n",
      "\n",
      "In the above example we created two arrays which represent an integer between 2, 4, and 12. However, the three elements have not been duplicated in the input array, as shown in the following code example.\n",
      "\n",
      "====================================================================================================\n",
      "******************************* PROMPT *******************************\n",
      "Create a 3x4 NumPy array of random integers from 0 to 5, where each row should have at least one unique value.\n",
      "******************************* Inference *******************************\n",
      "Create a 3x4 NumPy array of random integers from 0 to 5, where each row should have at least one unique value.\n",
      "\n",
      "The first 2 rows should have the same value, the third row a different value. As such, a random number generator can produce unique values on both of the 4 rows that represent each value, with one more single-end result. The first, last, fourth, or fifth row should all be unique, and the fourth row will always be a value that can't contain two values in its range. Finally, if you want to do multiple matching, and you find yourself searching for an array containing multiple rows rather than arrays, you can generate only arrays of random value generators.\n",
      "\n",
      "A random number generator can also be generated with a single-end result. This is done by calling random_rand by its normal form form. For example, if you wanted to create two random integers using the same name, the following is what you would do:\n",
      "\n",
      "SELECT * FROM rand WHERE rand < 10 WHERE rand <= 5 ORDER BY random_rand(5, 5) DESC LIMIT 3\n",
      "\n",
      "One more thing. When using the random_random_array method, you can set the number of each row in each record\n",
      "====================================================================================================\n",
      "******************************* PROMPT *******************************\n",
      "Find the index of the element 'c' in the following list, but the list may contain duplicates and the element 'c' may appear multiple times.\n",
      "******************************* Inference *******************************\n",
      "Find the index of the element 'c' in the following list, but the list may contain duplicates and the element 'c' may appear multiple times. This is in no way intended to be used as a rule to determine whether the content will be displayed.\n",
      "\n",
      "The following example demonstrates the ability to create a DOM element to replace or modify a parent element with a certain type that may be inherited on the parent element's parent.\n",
      "\n",
      "1.1.1.3.2.1. DOM Object\n",
      "\n",
      "In this example, the initial element will not be derived from a DOM constructor, so it is not considered an event.\n",
      "\n",
      "We may consider our elements to be instances of \"instanceof\" — which will mean that there is no object that represents an instance of our object. In other words, we will not inherit from an object in some sense. Let us, instead, create a class that represents an instance of our objects:\n",
      "\n",
      "1.1.1.2.1. Class Example\n",
      "\n",
      "Let's first consider a simple function to generate multiple instances of an object:\n",
      "\n",
      "1.1.1.3.1. Function To Generate 4 3.15.3.1.3. Functions 3 The list <\n",
      "====================================================================================================\n",
      "******************************* PROMPT *******************************\n",
      "Write a function for finding the minimum value in a given array, with a time complexity requirement of O(n log n), where n is the length of the array.\n",
      "******************************* Inference *******************************\n",
      "Write a function for finding the minimum value in a given array, with a time complexity requirement of O(n log n), where n is the length of the array.\n",
      "\n",
      "\n",
      "The simplest approach to this problem is to first define an array as\n",
      "\n",
      "Array{a,b} = [a | b] = [{3,1}, {4,2})... This array is divided into four elements, each in descending order, each of which is its first element.\n",
      "\n",
      "The most difficult problem we face in any case is if we want a simple value, but we can find an implementation for it that works well for most situations. It depends on the type of array, because every single primitive has type, there are a couple of things we can do to increase how many primitive types can be used for an implementation.\n",
      "\n",
      "For example, the base constructor takes a variable, where f x is a primitive type. It has type string and it has a return type called a -> b. One thing that is important is that the return type is not unique to the number of elements in the array, it would be better to let the caller be able check that the return value of a primitive type is the same number of elements as f. To do that\n",
      "====================================================================================================\n"
     ]
    }
   ],
   "source": [
    "model = load_model(model_id) \n",
    "tokenizer = load_tokenizer(model_id)\n",
    "generate_inference(model, tokenizer)"
   ]
  },
  {
   "cell_type": "markdown",
   "metadata": {},
   "source": [
    "# PEFT Parameters"
   ]
  },
  {
   "cell_type": "code",
   "execution_count": 10,
   "metadata": {
    "execution": {
     "iopub.execute_input": "2024-08-06T09:26:26.826072Z",
     "iopub.status.busy": "2024-08-06T09:26:26.825417Z",
     "iopub.status.idle": "2024-08-06T09:26:26.833055Z",
     "shell.execute_reply": "2024-08-06T09:26:26.832261Z",
     "shell.execute_reply.started": "2024-08-06T09:26:26.826040Z"
    }
   },
   "outputs": [],
   "source": [
    "LORA_R = 16\n",
    "LORA_ALPHA = 32\n",
    "LORA_DROPOUT= 0.05\n",
    "LORA_TARGET_MODULES = [\n",
    "    \"q_proj\",\n",
    "    \"k_proj\",\n",
    "    \"v_proj\",\n",
    "    \"o_proj\",\n",
    "    \"gate_proj\",\n",
    "    \"up_proj\",\n",
    "    \"down_proj\",\n",
    "    \"lm_head\",\n",
    "]\n",
    "\n",
    "BATCH_SIZE = 64\n",
    "MICRO_BATCH_SIZE = 4\n",
    "GRADIENT_ACCUMULATION_STEPS = BATCH_SIZE // MICRO_BATCH_SIZE\n",
    "LEARNING_RATE = 3e-4\n",
    "TRAIN_STEPS = 300"
   ]
  },
  {
   "cell_type": "markdown",
   "metadata": {},
   "source": [
    "# LoRA parameters\n"
   ]
  },
  {
   "cell_type": "code",
   "execution_count": 11,
   "metadata": {
    "execution": {
     "iopub.execute_input": "2024-08-06T09:26:28.435609Z",
     "iopub.status.busy": "2024-08-06T09:26:28.434861Z",
     "iopub.status.idle": "2024-08-06T09:26:28.440239Z",
     "shell.execute_reply": "2024-08-06T09:26:28.439266Z",
     "shell.execute_reply.started": "2024-08-06T09:26:28.435576Z"
    }
   },
   "outputs": [],
   "source": [
    "peft_params = LoraConfig(\n",
    "    r=LORA_R,\n",
    "    lora_alpha=LORA_ALPHA,\n",
    "    target_modules=LORA_TARGET_MODULES,\n",
    "    lora_dropout=LORA_DROPOUT,\n",
    "    bias=\"none\",\n",
    "    task_type=\"CAUSAL_LM\"\n",
    ")"
   ]
  },
  {
   "cell_type": "markdown",
   "metadata": {},
   "source": [
    "# Pre process fine-tune data record "
   ]
  },
  {
   "cell_type": "code",
   "execution_count": 12,
   "metadata": {
    "execution": {
     "iopub.execute_input": "2024-08-06T09:26:29.519264Z",
     "iopub.status.busy": "2024-08-06T09:26:29.518671Z",
     "iopub.status.idle": "2024-08-06T09:26:29.523736Z",
     "shell.execute_reply": "2024-08-06T09:26:29.522853Z",
     "shell.execute_reply.started": "2024-08-06T09:26:29.519225Z"
    }
   },
   "outputs": [],
   "source": [
    "def preprocess_function(example):\n",
    "    \"\"\"\n",
    "    Formatting function returning a list of samples (kind of necessary for SFT API).\n",
    "    \"\"\"\n",
    "    text = f\"### Instruction:\\n{example['instruction']}\\n\\n### Input:\\n{example['input']}\\n\\n### Response:\\n{example['output']}\"\n",
    "    return text"
   ]
  },
  {
   "cell_type": "markdown",
   "metadata": {},
   "source": [
    "# Load Dataset"
   ]
  },
  {
   "cell_type": "code",
   "execution_count": 13,
   "metadata": {
    "execution": {
     "iopub.execute_input": "2024-08-06T09:26:30.695289Z",
     "iopub.status.busy": "2024-08-06T09:26:30.694365Z",
     "iopub.status.idle": "2024-08-06T09:26:34.874191Z",
     "shell.execute_reply": "2024-08-06T09:26:34.873281Z",
     "shell.execute_reply.started": "2024-08-06T09:26:30.695229Z"
    }
   },
   "outputs": [],
   "source": [
    "import datasets\n",
    "from datasets import Dataset\n",
    "\n",
    "dataset = load_dataset(dataset_name)"
   ]
  },
  {
   "cell_type": "markdown",
   "metadata": {},
   "source": [
    "# Split Datasets into multiple equal parts"
   ]
  },
  {
   "cell_type": "code",
   "execution_count": 15,
   "metadata": {
    "execution": {
     "iopub.execute_input": "2024-08-06T09:26:34.876731Z",
     "iopub.status.busy": "2024-08-06T09:26:34.876110Z",
     "iopub.status.idle": "2024-08-06T09:26:35.055518Z",
     "shell.execute_reply": "2024-08-06T09:26:35.054771Z",
     "shell.execute_reply.started": "2024-08-06T09:26:34.876698Z"
    }
   },
   "outputs": [],
   "source": [
    "instruction = dataset[\"train\"][\"instruction\"]\n",
    "input = dataset[\"train\"][\"input\"]\n",
    "output = dataset[\"train\"][\"output\"]\n",
    "\n",
    "temp_dataset_1 = Dataset.from_dict({\"instruction\": instruction[:5500], \"input\": input[:5500], \"output\": output[:5500]})\n",
    "dataset_1 = datasets.DatasetDict({\"train\": temp_dataset_1})\n",
    "\n",
    "temp_dataset_2 = Dataset.from_dict({\"instruction\": instruction[5500:11000], \"input\": input[5500:11000], \"output\": output[5500:11000]})\n",
    "dataset_2 = datasets.DatasetDict({\"train\": temp_dataset_2})\n",
    "\n",
    "temp_dataset_3 = Dataset.from_dict({\"instruction\": instruction[11000:16500], \"input\": input[11000:16500], \"output\": output[11000:16500]})\n",
    "dataset_3 = datasets.DatasetDict({\"train\": temp_dataset_3})\n",
    "\n",
    "temp_dataset_4 = Dataset.from_dict({\"instruction\": instruction[16500:], \"input\": input[16500:], \"output\": output[16500:]})\n",
    "dataset_4 = datasets.DatasetDict({\"train\": temp_dataset_4})\n",
    "\n",
    "\n",
    "datasets = [dataset_1, dataset_2, dataset_3, dataset_4]"
   ]
  },
  {
   "cell_type": "markdown",
   "metadata": {},
   "source": [
    "# test train split"
   ]
  },
  {
   "cell_type": "code",
   "execution_count": 16,
   "metadata": {
    "execution": {
     "iopub.execute_input": "2024-08-06T09:27:01.124955Z",
     "iopub.status.busy": "2024-08-06T09:27:01.124057Z",
     "iopub.status.idle": "2024-08-06T09:27:01.130071Z",
     "shell.execute_reply": "2024-08-06T09:27:01.129010Z",
     "shell.execute_reply.started": "2024-08-06T09:27:01.124922Z"
    }
   },
   "outputs": [],
   "source": [
    "def train_test_split(dataset):\n",
    "    train_val = dataset[\"train\"].train_test_split(test_size=500, shuffle=True, seed=42)\n",
    "    train_data = train_val[\"train\"]\n",
    "    val_data = train_val[\"test\"]\n",
    "\n",
    "    return train_data, val_data"
   ]
  },
  {
   "cell_type": "code",
   "execution_count": 17,
   "metadata": {
    "execution": {
     "iopub.execute_input": "2024-08-06T09:27:01.678016Z",
     "iopub.status.busy": "2024-08-06T09:27:01.677226Z",
     "iopub.status.idle": "2024-08-06T09:27:01.723860Z",
     "shell.execute_reply": "2024-08-06T09:27:01.723019Z",
     "shell.execute_reply.started": "2024-08-06T09:27:01.677988Z"
    }
   },
   "outputs": [
    {
     "name": "stdout",
     "output_type": "stream",
     "text": [
      "trainable params: 816,400 || all params: 125,256,208 || trainable%: 0.6518\n"
     ]
    }
   ],
   "source": [
    "model = get_peft_model(model, peft_params)\n",
    "model.print_trainable_parameters()\n",
    "\n",
    "for param in model.parameters():\n",
    "    if param.requires_grad:\n",
    "        param.data = param.data.float()"
   ]
  },
  {
   "cell_type": "markdown",
   "metadata": {},
   "source": [
    "# Training Params"
   ]
  },
  {
   "cell_type": "code",
   "execution_count": 18,
   "metadata": {
    "execution": {
     "iopub.execute_input": "2024-08-06T09:27:03.187872Z",
     "iopub.status.busy": "2024-08-06T09:27:03.187518Z",
     "iopub.status.idle": "2024-08-06T09:27:03.217362Z",
     "shell.execute_reply": "2024-08-06T09:27:03.216587Z",
     "shell.execute_reply.started": "2024-08-06T09:27:03.187845Z"
    }
   },
   "outputs": [],
   "source": [
    "OUTPUT_DIR=\"/home/ec2-user/SageMaker/gpt-2/LoRA\"\n",
    "#OUTPUT_DIR=\"/kaggle/working/gpt-2\"\n",
    "training_args = TrainingArguments(\n",
    "  output_dir=OUTPUT_DIR,\n",
    "  num_train_epochs=3,\n",
    "  per_device_train_batch_size=4,\n",
    "  per_device_eval_batch_size=4,\n",
    "  gradient_accumulation_steps=4,\n",
    "  optim=\"paged_adamw_32bit\",\n",
    "  save_steps=200,\n",
    "  logging_steps=200,\n",
    "  learning_rate=0.0001,\n",
    "  eval_strategy=\"steps\",\n",
    "  weight_decay=0.001,\n",
    "  fp16=True,\n",
    "  bf16=False,\n",
    "  max_grad_norm=0.3,\n",
    "  max_steps=-1,\n",
    "  warmup_ratio=0.03,\n",
    "  group_by_length=True,\n",
    "  lr_scheduler_type=\"constant\",\n",
    "  report_to=\"tensorboard\"\n",
    ")"
   ]
  },
  {
   "cell_type": "markdown",
   "metadata": {},
   "source": [
    "# Model trainer"
   ]
  },
  {
   "cell_type": "code",
   "execution_count": 19,
   "metadata": {
    "execution": {
     "iopub.execute_input": "2024-08-06T09:27:04.509505Z",
     "iopub.status.busy": "2024-08-06T09:27:04.508662Z",
     "iopub.status.idle": "2024-08-06T09:27:04.514869Z",
     "shell.execute_reply": "2024-08-06T09:27:04.513984Z",
     "shell.execute_reply.started": "2024-08-06T09:27:04.509474Z"
    }
   },
   "outputs": [],
   "source": [
    "def train(train_dataset, eval_dataset, model, tokenizer, output_path):\n",
    "    \n",
    "    trainer = SFTTrainer(\n",
    "        model=model,\n",
    "        train_dataset=train_dataset,\n",
    "        eval_dataset=eval_dataset,\n",
    "        max_seq_length=context_length,\n",
    "        tokenizer=tokenizer,\n",
    "        args=training_args,\n",
    "        formatting_func=preprocess_function,\n",
    "        packing=True\n",
    "    )\n",
    "    \n",
    "    print(\"Model output path: \", f\"{output_path}/model/fine_tuned\")\n",
    "    \n",
    "    history = trainer.train()\n",
    "    model.save_pretrained(f\"{output_path}/model/fine_tuned\")\n",
    "    #tokenizer.save_pretrained(f\"{output_path}/tokenizer/fine_tuned\")\n",
    "    return model\n"
   ]
  },
  {
   "cell_type": "code",
   "execution_count": 20,
   "metadata": {
    "execution": {
     "iopub.execute_input": "2024-08-06T09:27:09.111815Z",
     "iopub.status.busy": "2024-08-06T09:27:09.111435Z",
     "iopub.status.idle": "2024-08-06T09:27:09.118092Z",
     "shell.execute_reply": "2024-08-06T09:27:09.117313Z",
     "shell.execute_reply.started": "2024-08-06T09:27:09.111788Z"
    }
   },
   "outputs": [],
   "source": [
    "context_length = 256"
   ]
  },
  {
   "cell_type": "markdown",
   "metadata": {},
   "source": [
    "# finetune model with dataset 1"
   ]
  },
  {
   "cell_type": "code",
   "execution_count": 21,
   "metadata": {
    "execution": {
     "iopub.execute_input": "2024-08-06T09:27:09.929406Z",
     "iopub.status.busy": "2024-08-06T09:27:09.929013Z",
     "iopub.status.idle": "2024-08-06T09:27:09.934728Z",
     "shell.execute_reply": "2024-08-06T09:27:09.933714Z",
     "shell.execute_reply.started": "2024-08-06T09:27:09.929377Z"
    }
   },
   "outputs": [
    {
     "name": "stdout",
     "output_type": "stream",
     "text": [
      "finetuning with dataset 1 1722937596958\n"
     ]
    }
   ],
   "source": [
    "import datetime\n",
    "import time\n",
    "\n",
    "current_timestamp_ms = int(time.time() * 1000)\n",
    "print(\"finetuning with dataset 1\", current_timestamp_ms)"
   ]
  },
  {
   "cell_type": "code",
   "execution_count": 22,
   "metadata": {
    "execution": {
     "iopub.execute_input": "2024-08-06T09:27:11.756123Z",
     "iopub.status.busy": "2024-08-06T09:27:11.755757Z",
     "iopub.status.idle": "2024-08-06T09:27:28.777307Z",
     "shell.execute_reply": "2024-08-06T09:27:28.776422Z",
     "shell.execute_reply.started": "2024-08-06T09:27:11.756096Z"
    }
   },
   "outputs": [
    {
     "name": "stdout",
     "output_type": "stream",
     "text": [
      "Loading:  openai-community/gpt2\n",
      "trainable params: 816,400 || all params: 125,256,208 || trainable%: 0.6518\n",
      "Fine-Tuning:  openai-community/gpt2\n"
     ]
    },
    {
     "data": {
      "application/vnd.jupyter.widget-view+json": {
       "model_id": "bc6a16a30aa04320840c59531f6fc841",
       "version_major": 2,
       "version_minor": 0
      },
      "text/plain": [
       "Generating train split: 0 examples [00:00, ? examples/s]"
      ]
     },
     "metadata": {},
     "output_type": "display_data"
    },
    {
     "name": "stderr",
     "output_type": "stream",
     "text": [
      "Token indices sequence length is longer than the specified maximum sequence length for this model (1206 > 1024). Running this sequence through the model will result in indexing errors\n"
     ]
    },
    {
     "data": {
      "application/vnd.jupyter.widget-view+json": {
       "model_id": "a62a3cd9abc046e19bcf61b7232741cc",
       "version_major": 2,
       "version_minor": 0
      },
      "text/plain": [
       "Generating train split: 0 examples [00:00, ? examples/s]"
      ]
     },
     "metadata": {},
     "output_type": "display_data"
    },
    {
     "name": "stdout",
     "output_type": "stream",
     "text": [
      "Model output path:  /home/ec2-user/SageMaker/gpt2/LoRA/dataset-1/model/fine_tuned\n"
     ]
    },
    {
     "data": {
      "text/html": [
       "\n",
       "    <div>\n",
       "      \n",
       "      <progress value='2757' max='2757' style='width:300px; height:20px; vertical-align: middle;'></progress>\n",
       "      [2757/2757 06:55, Epoch 2/3]\n",
       "    </div>\n",
       "    <table border=\"1\" class=\"dataframe\">\n",
       "  <thead>\n",
       " <tr style=\"text-align: left;\">\n",
       "      <th>Step</th>\n",
       "      <th>Training Loss</th>\n",
       "      <th>Validation Loss</th>\n",
       "    </tr>\n",
       "  </thead>\n",
       "  <tbody>\n",
       "    <tr>\n",
       "      <td>200</td>\n",
       "      <td>2.409900</td>\n",
       "      <td>1.983344</td>\n",
       "    </tr>\n",
       "    <tr>\n",
       "      <td>400</td>\n",
       "      <td>2.204100</td>\n",
       "      <td>1.917339</td>\n",
       "    </tr>\n",
       "    <tr>\n",
       "      <td>600</td>\n",
       "      <td>2.150500</td>\n",
       "      <td>1.882504</td>\n",
       "    </tr>\n",
       "    <tr>\n",
       "      <td>800</td>\n",
       "      <td>2.107700</td>\n",
       "      <td>1.845392</td>\n",
       "    </tr>\n",
       "    <tr>\n",
       "      <td>1000</td>\n",
       "      <td>2.080400</td>\n",
       "      <td>1.812383</td>\n",
       "    </tr>\n",
       "    <tr>\n",
       "      <td>1200</td>\n",
       "      <td>2.042900</td>\n",
       "      <td>1.789211</td>\n",
       "    </tr>\n",
       "    <tr>\n",
       "      <td>1400</td>\n",
       "      <td>2.021000</td>\n",
       "      <td>1.772816</td>\n",
       "    </tr>\n",
       "    <tr>\n",
       "      <td>1600</td>\n",
       "      <td>2.007100</td>\n",
       "      <td>1.757129</td>\n",
       "    </tr>\n",
       "    <tr>\n",
       "      <td>1800</td>\n",
       "      <td>1.975600</td>\n",
       "      <td>1.745564</td>\n",
       "    </tr>\n",
       "    <tr>\n",
       "      <td>2000</td>\n",
       "      <td>1.971100</td>\n",
       "      <td>1.734569</td>\n",
       "    </tr>\n",
       "    <tr>\n",
       "      <td>2200</td>\n",
       "      <td>1.966000</td>\n",
       "      <td>1.722805</td>\n",
       "    </tr>\n",
       "    <tr>\n",
       "      <td>2400</td>\n",
       "      <td>1.926000</td>\n",
       "      <td>1.713579</td>\n",
       "    </tr>\n",
       "    <tr>\n",
       "      <td>2600</td>\n",
       "      <td>1.947300</td>\n",
       "      <td>1.706157</td>\n",
       "    </tr>\n",
       "  </tbody>\n",
       "</table><p>"
      ],
      "text/plain": [
       "<IPython.core.display.HTML object>"
      ]
     },
     "metadata": {},
     "output_type": "display_data"
    },
    {
     "name": "stderr",
     "output_type": "stream",
     "text": [
      "/home/ec2-user/anaconda3/envs/pytorch_p310/lib/python3.10/site-packages/peft/utils/save_and_load.py:202: UserWarning: Setting `save_embedding_layers` to `True` as embedding layers found in `target_modules`.\n",
      "  warnings.warn(\"Setting `save_embedding_layers` to `True` as embedding layers found in `target_modules`.\")\n",
      "/home/ec2-user/anaconda3/envs/pytorch_p310/lib/python3.10/site-packages/peft/utils/save_and_load.py:202: UserWarning: Setting `save_embedding_layers` to `True` as embedding layers found in `target_modules`.\n",
      "  warnings.warn(\"Setting `save_embedding_layers` to `True` as embedding layers found in `target_modules`.\")\n",
      "/home/ec2-user/anaconda3/envs/pytorch_p310/lib/python3.10/site-packages/peft/utils/save_and_load.py:202: UserWarning: Setting `save_embedding_layers` to `True` as embedding layers found in `target_modules`.\n",
      "  warnings.warn(\"Setting `save_embedding_layers` to `True` as embedding layers found in `target_modules`.\")\n",
      "/home/ec2-user/anaconda3/envs/pytorch_p310/lib/python3.10/site-packages/peft/utils/save_and_load.py:202: UserWarning: Setting `save_embedding_layers` to `True` as embedding layers found in `target_modules`.\n",
      "  warnings.warn(\"Setting `save_embedding_layers` to `True` as embedding layers found in `target_modules`.\")\n",
      "/home/ec2-user/anaconda3/envs/pytorch_p310/lib/python3.10/site-packages/peft/utils/save_and_load.py:202: UserWarning: Setting `save_embedding_layers` to `True` as embedding layers found in `target_modules`.\n",
      "  warnings.warn(\"Setting `save_embedding_layers` to `True` as embedding layers found in `target_modules`.\")\n",
      "/home/ec2-user/anaconda3/envs/pytorch_p310/lib/python3.10/site-packages/peft/utils/save_and_load.py:202: UserWarning: Setting `save_embedding_layers` to `True` as embedding layers found in `target_modules`.\n",
      "  warnings.warn(\"Setting `save_embedding_layers` to `True` as embedding layers found in `target_modules`.\")\n",
      "/home/ec2-user/anaconda3/envs/pytorch_p310/lib/python3.10/site-packages/peft/utils/save_and_load.py:202: UserWarning: Setting `save_embedding_layers` to `True` as embedding layers found in `target_modules`.\n",
      "  warnings.warn(\"Setting `save_embedding_layers` to `True` as embedding layers found in `target_modules`.\")\n",
      "/home/ec2-user/anaconda3/envs/pytorch_p310/lib/python3.10/site-packages/peft/utils/save_and_load.py:202: UserWarning: Setting `save_embedding_layers` to `True` as embedding layers found in `target_modules`.\n",
      "  warnings.warn(\"Setting `save_embedding_layers` to `True` as embedding layers found in `target_modules`.\")\n",
      "/home/ec2-user/anaconda3/envs/pytorch_p310/lib/python3.10/site-packages/peft/utils/save_and_load.py:202: UserWarning: Setting `save_embedding_layers` to `True` as embedding layers found in `target_modules`.\n",
      "  warnings.warn(\"Setting `save_embedding_layers` to `True` as embedding layers found in `target_modules`.\")\n",
      "/home/ec2-user/anaconda3/envs/pytorch_p310/lib/python3.10/site-packages/peft/utils/save_and_load.py:202: UserWarning: Setting `save_embedding_layers` to `True` as embedding layers found in `target_modules`.\n",
      "  warnings.warn(\"Setting `save_embedding_layers` to `True` as embedding layers found in `target_modules`.\")\n",
      "/home/ec2-user/anaconda3/envs/pytorch_p310/lib/python3.10/site-packages/peft/utils/save_and_load.py:202: UserWarning: Setting `save_embedding_layers` to `True` as embedding layers found in `target_modules`.\n",
      "  warnings.warn(\"Setting `save_embedding_layers` to `True` as embedding layers found in `target_modules`.\")\n",
      "/home/ec2-user/anaconda3/envs/pytorch_p310/lib/python3.10/site-packages/peft/utils/save_and_load.py:202: UserWarning: Setting `save_embedding_layers` to `True` as embedding layers found in `target_modules`.\n",
      "  warnings.warn(\"Setting `save_embedding_layers` to `True` as embedding layers found in `target_modules`.\")\n",
      "/home/ec2-user/anaconda3/envs/pytorch_p310/lib/python3.10/site-packages/peft/utils/save_and_load.py:202: UserWarning: Setting `save_embedding_layers` to `True` as embedding layers found in `target_modules`.\n",
      "  warnings.warn(\"Setting `save_embedding_layers` to `True` as embedding layers found in `target_modules`.\")\n",
      "/home/ec2-user/anaconda3/envs/pytorch_p310/lib/python3.10/site-packages/peft/utils/save_and_load.py:202: UserWarning: Setting `save_embedding_layers` to `True` as embedding layers found in `target_modules`.\n",
      "  warnings.warn(\"Setting `save_embedding_layers` to `True` as embedding layers found in `target_modules`.\")\n",
      "/home/ec2-user/anaconda3/envs/pytorch_p310/lib/python3.10/site-packages/peft/utils/save_and_load.py:202: UserWarning: Setting `save_embedding_layers` to `True` as embedding layers found in `target_modules`.\n",
      "  warnings.warn(\"Setting `save_embedding_layers` to `True` as embedding layers found in `target_modules`.\")\n"
     ]
    },
    {
     "data": {
      "text/plain": [
       "1722938042736"
      ]
     },
     "execution_count": 22,
     "metadata": {},
     "output_type": "execute_result"
    }
   ],
   "source": [
    "BASE_DIR = \"/home/ec2-user/SageMaker/gpt2/LoRA/dataset-\"\n",
    "#BASE_DIR = \"/kaggle/working/gpt-2/dataset\"\n",
    "train_data, val_data = train_test_split(dataset_1)\n",
    "\n",
    "model_id = \"openai-community/gpt2\"\n",
    "index = 1\n",
    "model = load_model(model_id)\n",
    "tokenizer = load_tokenizer(model_id)\n",
    "model = get_peft_model(model, peft_params)\n",
    "model.print_trainable_parameters()\n",
    "print(\"Fine-Tuning: \", model_id)\n",
    "model = train(train_data, val_data, model, tokenizer, f\"{BASE_DIR}{index}\")\n",
    "\n",
    "current_timestamp_ms = int(time.time() * 1000)\n",
    "current_timestamp_ms"
   ]
  },
  {
   "cell_type": "markdown",
   "metadata": {},
   "source": [
    "# inference after finetuning with dataset 1"
   ]
  },
  {
   "cell_type": "code",
   "execution_count": 23,
   "metadata": {
    "execution": {
     "iopub.execute_input": "2024-08-06T09:27:38.855264Z",
     "iopub.status.busy": "2024-08-06T09:27:38.854525Z",
     "iopub.status.idle": "2024-08-06T09:27:56.743091Z",
     "shell.execute_reply": "2024-08-06T09:27:56.742139Z",
     "shell.execute_reply.started": "2024-08-06T09:27:38.855233Z"
    },
    "jupyter": {
     "outputs_hidden": true
    },
    "scrolled": true
   },
   "outputs": [
    {
     "name": "stdout",
     "output_type": "stream",
     "text": [
      "Loading:  /home/ec2-user/SageMaker/gpt2/LoRA/dataset-1/model/fine_tuned\n"
     ]
    },
    {
     "name": "stderr",
     "output_type": "stream",
     "text": [
      "Truncation was not explicitly activated but `max_length` is provided a specific value, please use `truncation=True` to explicitly truncate examples to max length. Defaulting to 'longest_first' truncation strategy. If you encode pairs of sequences (GLUE-style) with the tokenizer you can select this strategy more precisely by providing a specific strategy to `truncation`.\n"
     ]
    },
    {
     "name": "stdout",
     "output_type": "stream",
     "text": [
      "******************************* PROMPT *******************************\n",
      "Can you design a program in Python that can predict the likelihood of a certain material becoming unstable under high pressure and temperature conditions? This can be calculated using the Gurney equation, which takes into account parameters such as the chemical composition and crystal structure of the material. Additionally, can you provide a real-world scenario where this program could be applied in the field of material science and engineering?\n",
      "******************************* Inference *******************************\n",
      "Can you design a program in Python that can predict the likelihood of a certain material becoming unstable under high pressure and temperature conditions? This can be calculated using the Gurney equation, which takes into account parameters such as the chemical composition and crystal structure of the material. Additionally, can you provide a real-world scenario where this program could be applied in the field of material science and engineering? We are particularly interested in incorporating Python into the Python codebase as it adds Python to Python's built-in library.\n",
      "====================================================================================================\n",
      "******************************* PROMPT *******************************\n",
      "Write a Python function that returns the maximum value of the given set of integers: 1, 5, 23, and 9. The function should only use one line of code and must utilize the lambda function. Additionally, the function should be able to handle any set of integers provided as input, and should return an error message if any non-integer values are detected. The output should be displayed in a formatted table with the following columns: \"Input Set\", \"Maximum Value\". The table should also include a row for the given set of integers as well as a row for a randomly generated set of 10 integers between 1 and 100. Lastly, the function should be written in SQL and should be able to query a database table containing the input sets and their corresponding maximum values.\n",
      "******************************* Inference *******************************\n",
      "Write a Python function that returns the maximum value of the given set of integers: 1, 5, 23, and 9. The function should only use one line of code and must utilize the lambda function. Additionally, the function should be able to handle any set of integers provided as input, and should return an error message if any non-integer values are detected. The output should be displayed in a formatted table with the following columns: \"Input Set\", \"Maximum Value\". The table should also include a row for the given set of integers as well as a row for a randomly generated set of 10 integers between 1 and 100. Lastly, the function should be written in SQL and should be able to query a database table containing the input sets and their corresponding maximum values. Finally, the code can include two additional columns for sorting the output based on any set of integers up to and inclusive of 100 and 1. The output should display as if it were a dictionary with the following strings: \"String 1\" \"String 2\" \"String 3\" \"String 4\" If the function meets the requirements of the given constraint, the output should also display at least the set of integers in descending order of the first 10 characters of the string.\n",
      "Constraints:\n",
      "Constraints\n",
      "====================================================================================================\n",
      "******************************* PROMPT *******************************\n",
      "Create a function that takes two parameters, a number and a string, and returns an array with those two values in it. The string parameter should be checked if it is a valid string and if it contains only alphabetical characters. If the string is not valid (length less than 10 characters) or contains non-alphabetical characters, the function should return an empty array. Additionally, the number parameter should be restricted to a range between -1000 and 1000 (inclusive). The function should also check if the number is a prime number and return an empty array if it is not.\n",
      "******************************* Inference *******************************\n",
      "Create a function that takes two parameters, a number and a string, and returns an array with those two values in it. The string parameter should be checked if it is a valid string and if it contains only alphabetical characters. If the string is not valid (length less than 10 characters) or contains non-alphabetical characters, the function should return an empty array. Additionally, the number parameter should be restricted to a range between -1000 and 1000 (inclusive). The function should also check if the number is a prime number and return an empty array if it is not.\n",
      "     \n",
      "\n",
      "Output:\n",
      "print(number=1000, string=0)\n",
      "\n",
      "Output:\n",
      "\n",
      "sum(string=0)\n",
      "def get_digit(num=1000):\n",
      "def add_index(num=10, string=0):\n",
      "      \n",
      "     sum(string=10, string=0)\n",
      "print(num+1, string=0)\n",
      "Output:\n",
      "         sum(string=0, string=0)\n",
      "        numbers += [10 + 10]\n",
      "print(numbers)\n",
      "    \n",
      "====================================================================================================\n",
      "******************************* PROMPT *******************************\n",
      "Given a string, convert it to upper case using only basic string manipulation operations. The string may contain punctuation marks, special characters, and spaces. String: This string should be in upper case!\n",
      "******************************* Inference *******************************\n",
      "Given a string, convert it to upper case using only basic string manipulation operations. The string may contain punctuation marks, special characters, and spaces. String: This string should be in upper case!\n",
      "\n",
      "### Input:\n",
      "\n",
      "\n",
      "string = get_string(substring(1), [4, 5], [3, 4], [2, 1]).append(i!= 2 || i % 2 == 0)\n",
      "\n",
      "\n",
      "### Response:\n",
      "\n",
      "- The string should contain both a formatted string and a string representing all the characters in the given substring. We assume you use an ASCII representation such as uppercase uppercase letter i, followed by uppercase letter [i] followed by character `'.\n",
      "\n",
      "### Response Time: 10 seconds\n",
      "  if get_string(\"s-b-e\" == \"b\":0)\n",
      "    return string\n",
      "    if _start == _start + 8 or string == \"\"\n",
      "   count = 0\n",
      "   for char in str.replace(char):\n",
      "             return string\n",
      "    print( char)\n",
      "def get_word(string):\n",
      "      print(format_string)\n",
      "\n",
      "\n",
      "====================================================================================================\n",
      "******************************* PROMPT *******************************\n",
      "Find the sum of the first 1000 prime numbers that are greater than 100.\n",
      "******************************* Inference *******************************\n",
      "Find the sum of the first 1000 prime numbers that are greater than 100.\n",
      "Input: The sum of their digits, the order of the digits that follows, and the odd number values. This is a function of the prime numbers of the digits. We can calculate the prime numbers of integers by using this function:\n",
      "\n",
      "\n",
      "result =\n",
      "\n",
      "{n: 1000., r: 1000.3}\n",
      "\n",
      "Here, the sum of prime numbers 0 and 2 is 11 x 11 = 15.56\n",
      "```\n",
      "-n -\n",
      "\n",
      "-r\n",
      ")\n",
      "\n",
      "-e\n",
      "    -\n",
      "   - 3.25\n",
      "class PrimeNumber(object):\n",
      "   Output:\n",
      "\n",
      "\n",
      "primes = 1\n",
      "\n",
      "1.1\n",
      "4.5\n",
      "2.5\n",
      "  if prime_digit(1000, 1):\n",
      "      print prime_digit(1000, 2):\n",
      "   < prime_digit(1000, 3):\n",
      "   < prime_digit(1000, 4):\n",
      "\n",
      "   < prime_digit(1000, 5):\n",
      "\n",
      "\n",
      "```\n",
      "'`\n",
      "\n",
      "This function has two limitations: It cannot calculate any prime numbers less than the maximum number of prime numbers we call n. If\n",
      "====================================================================================================\n",
      "******************************* PROMPT *******************************\n",
      "Provide a function that finds the length of a string, but without using any built-in string length functions or methods, and without using any iteration or recursion.\n",
      "******************************* Inference *******************************\n",
      "Provide a function that finds the length of a string, but without using any built-in string length functions or methods, and without using any iteration or recursion. The example implementation calls this function on its value as provided by an empty string and iterates over the string as it appears in the provided value. Define a function that iterates over the string, returns a value, and recursively decrements the number of elements in the list. The function should return a unique string, such as str, containing no characters. The `string` extension should also be ignored in this function. Additionally, the `empty` dictionary should be ignored. `Erroneous and incorrect `strings` implementation of this function should implement additional methods, including `checkstring`, `checkforstring`, and `checkforempty`. The implementation should ignore any duplicate string values for `string` or `list`. The `is_string` function should correctly handle `is not valid string` if `string` is undefined, indicating that it may have an error message.\n",
      "\n",
      "\n",
      "Additionally, the `remove_key`, and `pop_key`, implementation should support built-in string handling. The implementation should iterate over the key, returning exactly the value. The implementation should\n",
      "====================================================================================================\n"
     ]
    },
    {
     "name": "stdout",
     "output_type": "stream",
     "text": [
      "******************************* PROMPT *******************************\n",
      "Create a function that removes duplicates from an array and returns an array of the unique values. The function should only use O(1) additional space and have a time complexity of O(n), where n is the length of the input array. The input array can contain integers, floating-point numbers, strings, and nested arrays. The output array should be sorted in descending order. Additionally, the function should handle nested arrays correctly by recursively flattening them before removing duplicates.\n",
      "******************************* Inference *******************************\n",
      "Create a function that removes duplicates from an array and returns an array of the unique values. The function should only use O(1) additional space and have a time complexity of O(n), where n is the length of the input array. The input array can contain integers, floating-point numbers, strings, and nested arrays. The output array should be sorted in descending order. Additionally, the function should handle nested arrays correctly by recursively flattening them before removing duplicates. Additionally, the function should only handle duplicates within a given array and should handle duplicate arrays within the input array.\n",
      "\n",
      "Additionally, the function should only handle duplicate arrays within a given array and should handle duplicate arrays within the input array. Finally, the function should be able to iterate through the input array and handle duplicate requests. Additionally, the function should have a time complexity of O(n), where n is the length of the input array. This additional space and additional time complexity can improve your performance in a given function usage.\n",
      "To handle duplicate requests without special handling, consider the following scenarios:\n",
      "\n",
      "### Response Response Response Response Response Response Response Response Response Response Response Response Response Response Response Response Response Response Response Response Response Response Response Response\n",
      "from uppercase_lowercase\n",
      "====================================================================================================\n",
      "******************************* PROMPT *******************************\n",
      "Create a 3x4 NumPy array of random integers from 0 to 5, where each row should have at least one unique value.\n",
      "******************************* Inference *******************************\n",
      "Create a 3x4 NumPy array of random integers from 0 to 5, where each row should have at least one unique value. If the row is empty, all elements in the array should be negative numbers. If the row is empty it means the number does not exist. If the number is negative its value appears in the resulting array and the input square should contain at least one unique number.\n",
      "\n",
      "Example:\n",
      "\n",
      "```python\n",
      "   # Output: 1, 3, 10, 1000, 9, 20, 5, O()\n",
      "\n",
      "```\n",
      "   Additionally, you can specify negative numbers and duplicate numbers as inputs of the array.\n",
      "\n",
      "In Python\n",
      "   for each element in the data set, the data is rounded up to the nearest 0.\n",
      "\n",
      "For example, you can use the following code to solve a loop from 0 to 5:\n",
      "\n",
      "def test_1 ( x, y): for element in range(5):\n",
      "         # Output: 1\n",
      "```\n",
      "4\n",
      "\n",
      "def test_2 ( x, y, z):\n",
      "       # Output: O(1), O(2), O(3)\n",
      "```\n",
      "\n",
      "``\n",
      "====================================================================================================\n",
      "******************************* PROMPT *******************************\n",
      "Find the index of the element 'c' in the following list, but the list may contain duplicates and the element 'c' may appear multiple times.\n",
      "******************************* Inference *******************************\n",
      "Find the index of the element 'c' in the following list, but the list may contain duplicates and the element 'c' may appear multiple times. Insert the duplicate into the index as specified by the second argument.\n",
      "Here is an example of comparing the duplicate elements in the list.\n",
      "Note the duplicates in the list. Here are the elements in the list.\n",
      "Example usage:\n",
      "The list elements are all in the reverse order. If the count of duplicates is greater than the size of the list, the count of occurrences is doubled.\n",
      "Let's assume we have a dictionary. It contains four dictionaries. Here is an example of comparing the count of duplicates in lists with a function `sort':\n",
      "Here is the second argument of the reverse search:\n",
      "Here is the second argument of the sort function:\n",
      "Here is the second arguments of the reverse search function.\n",
      "In this function we use the'sort' function to sort the list at each character of each dictionary elements with the input value of the reverse search function using the order of the dictionaries. Then, we check if each character is a duplicates character. If the value of reverse search is zero, the reverse search stops and the sorted list is found. In the reverse\n",
      "====================================================================================================\n",
      "******************************* PROMPT *******************************\n",
      "Write a function for finding the minimum value in a given array, with a time complexity requirement of O(n log n), where n is the length of the array.\n",
      "******************************* Inference *******************************\n",
      "Write a function for finding the minimum value in a given array, with a time complexity requirement of O(n log n), where n is the length of the array.\n",
      "\n",
      "The time complexity requirements are in descending order in descending order given the list of the elements in the array.\n",
      "\n",
      "Example usage\n",
      "4.\n",
      "\n",
      "### Response Response( int length) Response Response Response Response Response Response Response Response Response Response Response Response Response Response Response Response Response Response Response Response Response Response Response Response Response Response Response Response Response Response Response Response Response Response Response Response Response Response Response Response Response Response Response Response Response Response Response Response Response Response Response Response Response\n",
      "   Input Response Response Response Response Response Response Response Response Response Response Response Response Response Response Response Response Response Response Response Response Response Response Response Response Response Response Response Response Response Response Response Response Response Response Response Response Response Response Response Response Response Response Response Response Response Response Response Response Response Response Response Response Response Response Response Response Response Response Response Response Response Response Response Response Response Response Response Response Response Response Response Response Response Response Response Response Response Response Response Response Response Response Response Response Response Response Response Response Response Response Response Response Response Response Response Response Response Response Response Response Response Response Response Response Response Response Response Response Response Response Response Response Response Response Response Response Response Response Response Response Response Response Response Response Response Response\n",
      "====================================================================================================\n"
     ]
    }
   ],
   "source": [
    "model = load_model(f\"{BASE_DIR}1/model/fine_tuned\") \n",
    "#tokenizer = load_tokenizer(f\"{BASE_DIR}1/tokenizer/fine_tuned\")\n",
    "generate_inference(model, tokenizer)"
   ]
  },
  {
   "cell_type": "markdown",
   "metadata": {},
   "source": [
    "# Finetune with model with dataset 2"
   ]
  },
  {
   "cell_type": "code",
   "execution_count": 24,
   "metadata": {
    "execution": {
     "iopub.execute_input": "2024-08-06T09:28:24.507956Z",
     "iopub.status.busy": "2024-08-06T09:28:24.507581Z",
     "iopub.status.idle": "2024-08-06T09:28:24.513193Z",
     "shell.execute_reply": "2024-08-06T09:28:24.512290Z",
     "shell.execute_reply.started": "2024-08-06T09:28:24.507927Z"
    }
   },
   "outputs": [
    {
     "name": "stdout",
     "output_type": "stream",
     "text": [
      "dataset 2 finetuning 1722938086160\n"
     ]
    }
   ],
   "source": [
    "current_timestamp_ms = int(time.time() * 1000)\n",
    "print(\"dataset 2 finetuning\", current_timestamp_ms)"
   ]
  },
  {
   "cell_type": "code",
   "execution_count": 25,
   "metadata": {
    "execution": {
     "iopub.execute_input": "2024-08-06T09:28:25.500699Z",
     "iopub.status.busy": "2024-08-06T09:28:25.500325Z",
     "iopub.status.idle": "2024-08-06T09:28:42.943796Z",
     "shell.execute_reply": "2024-08-06T09:28:42.942862Z",
     "shell.execute_reply.started": "2024-08-06T09:28:25.500671Z"
    }
   },
   "outputs": [
    {
     "name": "stdout",
     "output_type": "stream",
     "text": [
      "Loading:  /home/ec2-user/SageMaker/gpt2/LoRA/dataset-1/model/fine_tuned\n",
      "trainable params: 816,400 || all params: 125,256,208 || trainable%: 0.6518\n",
      "Fine-Tuning:  /home/ec2-user/SageMaker/gpt2/LoRA/dataset-1/model/fine_tuned\n"
     ]
    },
    {
     "data": {
      "application/vnd.jupyter.widget-view+json": {
       "model_id": "271dc419f5de4d3ebf2dd7c8cb35e338",
       "version_major": 2,
       "version_minor": 0
      },
      "text/plain": [
       "Generating train split: 0 examples [00:00, ? examples/s]"
      ]
     },
     "metadata": {},
     "output_type": "display_data"
    },
    {
     "data": {
      "application/vnd.jupyter.widget-view+json": {
       "model_id": "a0c2046aaa324d719ef4e0b0c477ba9c",
       "version_major": 2,
       "version_minor": 0
      },
      "text/plain": [
       "Generating train split: 0 examples [00:00, ? examples/s]"
      ]
     },
     "metadata": {},
     "output_type": "display_data"
    },
    {
     "name": "stdout",
     "output_type": "stream",
     "text": [
      "Model output path:  /home/ec2-user/SageMaker/gpt2/LoRA/dataset-2/model/fine_tuned\n"
     ]
    },
    {
     "data": {
      "text/html": [
       "\n",
       "    <div>\n",
       "      \n",
       "      <progress value='1857' max='1857' style='width:300px; height:20px; vertical-align: middle;'></progress>\n",
       "      [1857/1857 04:33, Epoch 3/3]\n",
       "    </div>\n",
       "    <table border=\"1\" class=\"dataframe\">\n",
       "  <thead>\n",
       " <tr style=\"text-align: left;\">\n",
       "      <th>Step</th>\n",
       "      <th>Training Loss</th>\n",
       "      <th>Validation Loss</th>\n",
       "    </tr>\n",
       "  </thead>\n",
       "  <tbody>\n",
       "    <tr>\n",
       "      <td>200</td>\n",
       "      <td>2.439500</td>\n",
       "      <td>2.000025</td>\n",
       "    </tr>\n",
       "    <tr>\n",
       "      <td>400</td>\n",
       "      <td>2.217400</td>\n",
       "      <td>1.917570</td>\n",
       "    </tr>\n",
       "    <tr>\n",
       "      <td>600</td>\n",
       "      <td>2.163100</td>\n",
       "      <td>1.875599</td>\n",
       "    </tr>\n",
       "    <tr>\n",
       "      <td>800</td>\n",
       "      <td>2.118100</td>\n",
       "      <td>1.833469</td>\n",
       "    </tr>\n",
       "    <tr>\n",
       "      <td>1000</td>\n",
       "      <td>2.063000</td>\n",
       "      <td>1.800728</td>\n",
       "    </tr>\n",
       "    <tr>\n",
       "      <td>1200</td>\n",
       "      <td>2.035500</td>\n",
       "      <td>1.772283</td>\n",
       "    </tr>\n",
       "    <tr>\n",
       "      <td>1400</td>\n",
       "      <td>2.003000</td>\n",
       "      <td>1.751814</td>\n",
       "    </tr>\n",
       "    <tr>\n",
       "      <td>1600</td>\n",
       "      <td>1.983100</td>\n",
       "      <td>1.736442</td>\n",
       "    </tr>\n",
       "    <tr>\n",
       "      <td>1800</td>\n",
       "      <td>1.977300</td>\n",
       "      <td>1.720999</td>\n",
       "    </tr>\n",
       "  </tbody>\n",
       "</table><p>"
      ],
      "text/plain": [
       "<IPython.core.display.HTML object>"
      ]
     },
     "metadata": {},
     "output_type": "display_data"
    },
    {
     "name": "stderr",
     "output_type": "stream",
     "text": [
      "/home/ec2-user/anaconda3/envs/pytorch_p310/lib/python3.10/site-packages/peft/utils/save_and_load.py:202: UserWarning: Setting `save_embedding_layers` to `True` as embedding layers found in `target_modules`.\n",
      "  warnings.warn(\"Setting `save_embedding_layers` to `True` as embedding layers found in `target_modules`.\")\n",
      "/home/ec2-user/anaconda3/envs/pytorch_p310/lib/python3.10/site-packages/peft/utils/save_and_load.py:202: UserWarning: Setting `save_embedding_layers` to `True` as embedding layers found in `target_modules`.\n",
      "  warnings.warn(\"Setting `save_embedding_layers` to `True` as embedding layers found in `target_modules`.\")\n",
      "/home/ec2-user/anaconda3/envs/pytorch_p310/lib/python3.10/site-packages/peft/utils/save_and_load.py:202: UserWarning: Setting `save_embedding_layers` to `True` as embedding layers found in `target_modules`.\n",
      "  warnings.warn(\"Setting `save_embedding_layers` to `True` as embedding layers found in `target_modules`.\")\n",
      "/home/ec2-user/anaconda3/envs/pytorch_p310/lib/python3.10/site-packages/peft/utils/save_and_load.py:202: UserWarning: Setting `save_embedding_layers` to `True` as embedding layers found in `target_modules`.\n",
      "  warnings.warn(\"Setting `save_embedding_layers` to `True` as embedding layers found in `target_modules`.\")\n",
      "/home/ec2-user/anaconda3/envs/pytorch_p310/lib/python3.10/site-packages/peft/utils/save_and_load.py:202: UserWarning: Setting `save_embedding_layers` to `True` as embedding layers found in `target_modules`.\n",
      "  warnings.warn(\"Setting `save_embedding_layers` to `True` as embedding layers found in `target_modules`.\")\n",
      "/home/ec2-user/anaconda3/envs/pytorch_p310/lib/python3.10/site-packages/peft/utils/save_and_load.py:202: UserWarning: Setting `save_embedding_layers` to `True` as embedding layers found in `target_modules`.\n",
      "  warnings.warn(\"Setting `save_embedding_layers` to `True` as embedding layers found in `target_modules`.\")\n",
      "/home/ec2-user/anaconda3/envs/pytorch_p310/lib/python3.10/site-packages/peft/utils/save_and_load.py:202: UserWarning: Setting `save_embedding_layers` to `True` as embedding layers found in `target_modules`.\n",
      "  warnings.warn(\"Setting `save_embedding_layers` to `True` as embedding layers found in `target_modules`.\")\n",
      "/home/ec2-user/anaconda3/envs/pytorch_p310/lib/python3.10/site-packages/peft/utils/save_and_load.py:202: UserWarning: Setting `save_embedding_layers` to `True` as embedding layers found in `target_modules`.\n",
      "  warnings.warn(\"Setting `save_embedding_layers` to `True` as embedding layers found in `target_modules`.\")\n",
      "/home/ec2-user/anaconda3/envs/pytorch_p310/lib/python3.10/site-packages/peft/utils/save_and_load.py:202: UserWarning: Setting `save_embedding_layers` to `True` as embedding layers found in `target_modules`.\n",
      "  warnings.warn(\"Setting `save_embedding_layers` to `True` as embedding layers found in `target_modules`.\")\n",
      "/home/ec2-user/anaconda3/envs/pytorch_p310/lib/python3.10/site-packages/peft/utils/save_and_load.py:202: UserWarning: Setting `save_embedding_layers` to `True` as embedding layers found in `target_modules`.\n",
      "  warnings.warn(\"Setting `save_embedding_layers` to `True` as embedding layers found in `target_modules`.\")\n"
     ]
    },
    {
     "data": {
      "text/plain": [
       "1722938375140"
      ]
     },
     "execution_count": 25,
     "metadata": {},
     "output_type": "execute_result"
    }
   ],
   "source": [
    "train_data, val_data = train_test_split(dataset_2)\n",
    "\n",
    "model_id = f\"{BASE_DIR}1/model/fine_tuned\"\n",
    "index = 2\n",
    "model = load_model(model_id, True)\n",
    "model = get_peft_model(model, peft_params)\n",
    "model.print_trainable_parameters()\n",
    "print(\"Fine-Tuning: \", model_id)\n",
    "model = train(train_data, val_data, model, tokenizer, f\"{BASE_DIR}{index}\")\n",
    "\n",
    "current_timestamp_ms = int(time.time() * 1000)\n",
    "current_timestamp_ms"
   ]
  },
  {
   "cell_type": "markdown",
   "metadata": {},
   "source": [
    "# inference after finetuning with dataset 2"
   ]
  },
  {
   "cell_type": "code",
   "execution_count": 26,
   "metadata": {
    "scrolled": true
   },
   "outputs": [
    {
     "name": "stdout",
     "output_type": "stream",
     "text": [
      "Loading:  /home/ec2-user/SageMaker/gpt2/LoRA/dataset-2/model/fine_tuned\n",
      "******************************* PROMPT *******************************\n",
      "Can you design a program in Python that can predict the likelihood of a certain material becoming unstable under high pressure and temperature conditions? This can be calculated using the Gurney equation, which takes into account parameters such as the chemical composition and crystal structure of the material. Additionally, can you provide a real-world scenario where this program could be applied in the field of material science and engineering?\n",
      "******************************* Inference *******************************\n",
      "Can you design a program in Python that can predict the likelihood of a certain material becoming unstable under high pressure and temperature conditions? This can be calculated using the Gurney equation, which takes into account parameters such as the chemical composition and crystal structure of the material. Additionally, can you provide a real-world scenario where this program could be applied in the field of material science and engineering?\n",
      "Create a case document with a list of current scientific concepts and an example implementation that can be used during this scenario design. Implement any additional conditions or steps that you can consider within your implementation using the parameters described in the implementation. Also ensure that both the time of implementation and the time associated with implementing the code has a minimum of at least 30 days between implementation start and initial operations. Ensure that the time of implementation has a minimum of at least 1000 milliseconds between implementation start and execution.\n",
      "Exceed any possible conditions and steps mentioned in the implementation to maintain the functionality you achieve during the scenarios described. Ensure that the implementation implementation supports multiple user accounts and can handle duplicate user input. Additionally, make sure that you handle duplicate user input in a way that achieves a minimum of 30-50% of the time during implementation. Additionally, ensure that the implementation implementation can handle duplicate user input without breaking\n",
      "====================================================================================================\n",
      "******************************* PROMPT *******************************\n",
      "Write a Python function that returns the maximum value of the given set of integers: 1, 5, 23, and 9. The function should only use one line of code and must utilize the lambda function. Additionally, the function should be able to handle any set of integers provided as input, and should return an error message if any non-integer values are detected. The output should be displayed in a formatted table with the following columns: \"Input Set\", \"Maximum Value\". The table should also include a row for the given set of integers as well as a row for a randomly generated set of 10 integers between 1 and 100. Lastly, the function should be written in SQL and should be able to query a database table containing the input sets and their corresponding maximum values.\n",
      "******************************* Inference *******************************\n",
      "Write a Python function that returns the maximum value of the given set of integers: 1, 5, 23, and 9. The function should only use one line of code and must utilize the lambda function. Additionally, the function should be able to handle any set of integers provided as input, and should return an error message if any non-integer values are detected. The output should be displayed in a formatted table with the following columns: \"Input Set\", \"Maximum Value\". The table should also include a row for the given set of integers as well as a row for a randomly generated set of 10 integers between 1 and 100. Lastly, the function should be written in SQL and should be able to query a database table containing the input sets and their corresponding maximum values. If you use an SQL function, it is recommended to call your function in the function itself, as SQL functions should not use its array or method. The functions should be used within Python 3 in combination with functions that can perform the corresponding operations. The only exceptions to this are when the parameters of functions are in Python 3 and can directly use a function whose initialization is not implemented (for example, a function that increments a value of an integer by 10 with the given value of an array takes a tuple,\n",
      "====================================================================================================\n",
      "******************************* PROMPT *******************************\n",
      "Create a function that takes two parameters, a number and a string, and returns an array with those two values in it. The string parameter should be checked if it is a valid string and if it contains only alphabetical characters. If the string is not valid (length less than 10 characters) or contains non-alphabetical characters, the function should return an empty array. Additionally, the number parameter should be restricted to a range between -1000 and 1000 (inclusive). The function should also check if the number is a prime number and return an empty array if it is not.\n",
      "******************************* Inference *******************************\n",
      "Create a function that takes two parameters, a number and a string, and returns an array with those two values in it. The string parameter should be checked if it is a valid string and if it contains only alphabetical characters. If the string is not valid (length less than 10 characters) or contains non-alphabetical characters, the function should return an empty array. Additionally, the number parameter should be restricted to a range between -1000 and 1000 (inclusive). The function should also check if the number is a prime number and return an empty array if it is not.\n",
      "\n",
      "Here's an example that should accomplish this.\n",
      "\n",
      "is_prime_number(\"is_prime_number),\n",
      "print(is_prime_number, \"sum([sum(2)] + 1)\"),\n",
      "4\n",
      "    for k in range(15):\n",
      "            if is_prime_number <= k:              else:\n",
      "       x      if is_prime_number >= max_prime_number or isprime_number > max_prime_number():\n",
      "      \n",
      "====================================================================================================\n",
      "******************************* PROMPT *******************************\n",
      "Given a string, convert it to upper case using only basic string manipulation operations. The string may contain punctuation marks, special characters, and spaces. String: This string should be in upper case!\n",
      "******************************* Inference *******************************\n",
      "Given a string, convert it to upper case using only basic string manipulation operations. The string may contain punctuation marks, special characters, and spaces. String: This string should be in upper case! If the string is converted, the original string should be \"%n\" or \"%d+n\". This will handle case values from 1 through the end of the string without special characters. Otherwise, an empty string will lead to incorrect characters in the end. If the string is converted, the resulting string will handle case values from 1 through the end of the original string with an incorrect character. It should print to the console the resulting string in lower case. The following code takes as input the entire string and sets appropriate whitespace characters to whitespace in ascending order. The code will print any character missing any whitespace characters that need not be special and to the console, a character starting with a character starting with \" %d \" or lowercase \" d. The code will also generate the string to use as the user's password or login string. The program will print any character missing any whitespace characters that have space to start the new string using, such as a \" %n\" character or a \" %f \" or a \" %l \", without whitespace\n",
      "====================================================================================================\n",
      "******************************* PROMPT *******************************\n",
      "Find the sum of the first 1000 prime numbers that are greater than 100.\n",
      "******************************* Inference *******************************\n",
      "Find the sum of the first 1000 prime numbers that are greater than 100.\n",
      "\n",
      "### Response to Python\n",
      "====================================================================================================\n"
     ]
    },
    {
     "name": "stdout",
     "output_type": "stream",
     "text": [
      "******************************* PROMPT *******************************\n",
      "Provide a function that finds the length of a string, but without using any built-in string length functions or methods, and without using any iteration or recursion.\n",
      "******************************* Inference *******************************\n",
      "Provide a function that finds the length of a string, but without using any built-in string length functions or methods, and without using any iteration or recursion. Additionally, implement a recursion that takes the shortest representation to find the length.\n",
      "Here's an implementation of recursion that takes a function where we loop through each item in a string.\n",
      "====================================================================================================\n",
      "******************************* PROMPT *******************************\n",
      "Create a function that removes duplicates from an array and returns an array of the unique values. The function should only use O(1) additional space and have a time complexity of O(n), where n is the length of the input array. The input array can contain integers, floating-point numbers, strings, and nested arrays. The output array should be sorted in descending order. Additionally, the function should handle nested arrays correctly by recursively flattening them before removing duplicates.\n",
      "******************************* Inference *******************************\n",
      "Create a function that removes duplicates from an array and returns an array of the unique values. The function should only use O(1) additional space and have a time complexity of O(n), where n is the length of the input array. The input array can contain integers, floating-point numbers, strings, and nested arrays. The output array should be sorted in descending order. Additionally, the function should handle nested arrays correctly by recursively flattening them before removing duplicates. The function should also accept a custom array size parameter. The array size should be O(1000) or O(num_unique_values_per_array) or O(num_unique_values_per_array_size) of the input array or O(num_unique_values_per_array_size) of the array itself. Initializing the function should be as follows: Initialize array: = function(is_unique_value, is_unique) { for(arrn i = 0, arrs[i]) { if(is_unique[i+1]) if(arrs[i].is_unique()) If(arrs[i].is_unique()) { if(is_unique[i].length()) Return\n",
      "====================================================================================================\n",
      "******************************* PROMPT *******************************\n",
      "Create a 3x4 NumPy array of random integers from 0 to 5, where each row should have at least one unique value.\n",
      "******************************* Inference *******************************\n",
      "Create a 3x4 NumPy array of random integers from 0 to 5, where each row should have at least one unique value. Once initialized, return the number in the array.\n",
      "\n",
      "Note\n",
      ".array_key = \"my_array\":\n",
      "```\n",
      "\n",
      "In Python, the function ascii.append(1, 20) will append (the value of the key) to the array.\n",
      "\n",
      "```\n",
      "\n",
      "Example usage\n",
      "\n",
      "Example usage:\n",
      "for i in range(5):\n",
      "           return i\n",
      "\n",
      "```\n",
      "for n in range(6):\n",
      "        return -1\n",
      "\n",
      "```\n",
      "\n",
      "Note\n",
      "  for any row with the key key will be a float in the range, and it will be divisible by 3.\n",
      "\n",
      "Output:\n",
      "\n",
      "1, 1\n",
      "     3,0, 2, 3,6\n",
      "\n",
      "Output:\n",
      "\n",
      "1, 4, 4, 4,5, 5, 10, 10, -3\n",
      "\n",
      "Output:\n",
      "  for any row with the key value is a float in the range, and it will be divisible by 2.\n",
      "print(num_strings\n",
      "====================================================================================================\n",
      "******************************* PROMPT *******************************\n",
      "Find the index of the element 'c' in the following list, but the list may contain duplicates and the element 'c' may appear multiple times.\n",
      "******************************* Inference *******************************\n",
      "Find the index of the element 'c' in the following list, but the list may contain duplicates and the element 'c' may appear multiple times. If the index contains duplicate elements, the element 'd' may not have any elements in the list.\n",
      "\n",
      "If the element 'c' exists in an appropriate order and is not present in the list, it is ignored.\n",
      "\n",
      "In a list index, the index variable is an array with each element preceded by one or more non-alphanumeric numbers. The corresponding elements can be any of the following:\n",
      "\n",
      "\n",
      "None\n",
      "\n",
      "  # Empty\n",
      "\n",
      "\n",
      "The `#' variable is the empty array. For a `#' variable, the list list contains whitespace because there are no whitespace characters.\n",
      "\n",
      "In a list containing `#' it cannot contain any non-alphanumeric number. Here's an example of `#':\n",
      "\n",
      "def list_of_strings:\n",
      "\n",
      "  # Example 1\n",
      "\n",
      "   # Example 2\n",
      "\n",
      "\n",
      "\n",
      "\n",
      "Here's an example of `#':\n",
      "\n",
      "\n",
      "def list_of_strings:\n",
      "\n",
      "\n",
      "# Example 1\n",
      "\n",
      " \n",
      "\n",
      "\n",
      "Here's an example of `#':\n",
      "\n",
      "\n",
      "# Example 2\n",
      "\n",
      "  # Example 3\n",
      "\n",
      "  # Example 4\n",
      "\n",
      "\n",
      "====================================================================================================\n",
      "******************************* PROMPT *******************************\n",
      "Write a function for finding the minimum value in a given array, with a time complexity requirement of O(n log n), where n is the length of the array.\n",
      "******************************* Inference *******************************\n",
      "Write a function for finding the minimum value in a given array, with a time complexity requirement of O(n log n), where n is the length of the array. Return None for any number greater than O(n log n) = 0.\n",
      "\n",
      "The time complexity calculation also includes O(n log n) where O(n log n) is the number of elements in the array.\n",
      "\n",
      "Note that the implementation assumes a maximum of O(2 log n) is required in sorting elements in descending order, and O(2 log n) becomes O(n log n) where O(n log n). Additionally, a maximum of O(2 log n) is required in sorting elements in ascending frequency order.\n",
      "====================================================================================================\n"
     ]
    }
   ],
   "source": [
    "model = load_model(f\"{BASE_DIR}2/model/fine_tuned\") \n",
    "generate_inference(model, tokenizer)"
   ]
  },
  {
   "cell_type": "markdown",
   "metadata": {},
   "source": [
    "# Finetune with model with dataset 3"
   ]
  },
  {
   "cell_type": "code",
   "execution_count": 27,
   "metadata": {},
   "outputs": [
    {
     "name": "stdout",
     "output_type": "stream",
     "text": [
      "dataset 3 finetuning 1722938536078\n"
     ]
    }
   ],
   "source": [
    "current_timestamp_ms = int(time.time() * 1000)\n",
    "print(\"dataset 3 finetuning\", current_timestamp_ms)"
   ]
  },
  {
   "cell_type": "code",
   "execution_count": 30,
   "metadata": {},
   "outputs": [
    {
     "name": "stdout",
     "output_type": "stream",
     "text": [
      "Loading:  /home/ec2-user/SageMaker/gpt2/LoRA/dataset-2/model/fine_tuned\n",
      "trainable params: 816,400 || all params: 125,256,208 || trainable%: 0.6518\n",
      "Fine-Tuning:  /home/ec2-user/SageMaker/gpt2/LoRA/dataset-2/model/fine_tuned\n",
      "Model output path:  /home/ec2-user/SageMaker/gpt2/LoRA/dataset-3/model/fine_tuned\n"
     ]
    },
    {
     "data": {
      "text/html": [
       "\n",
       "    <div>\n",
       "      \n",
       "      <progress value='2337' max='2337' style='width:300px; height:20px; vertical-align: middle;'></progress>\n",
       "      [2337/2337 05:48, Epoch 2/3]\n",
       "    </div>\n",
       "    <table border=\"1\" class=\"dataframe\">\n",
       "  <thead>\n",
       " <tr style=\"text-align: left;\">\n",
       "      <th>Step</th>\n",
       "      <th>Training Loss</th>\n",
       "      <th>Validation Loss</th>\n",
       "    </tr>\n",
       "  </thead>\n",
       "  <tbody>\n",
       "    <tr>\n",
       "      <td>200</td>\n",
       "      <td>2.559500</td>\n",
       "      <td>2.128304</td>\n",
       "    </tr>\n",
       "    <tr>\n",
       "      <td>400</td>\n",
       "      <td>2.352600</td>\n",
       "      <td>2.041639</td>\n",
       "    </tr>\n",
       "    <tr>\n",
       "      <td>600</td>\n",
       "      <td>2.276200</td>\n",
       "      <td>1.988267</td>\n",
       "    </tr>\n",
       "    <tr>\n",
       "      <td>800</td>\n",
       "      <td>2.224600</td>\n",
       "      <td>1.953032</td>\n",
       "    </tr>\n",
       "    <tr>\n",
       "      <td>1000</td>\n",
       "      <td>2.200700</td>\n",
       "      <td>1.925541</td>\n",
       "    </tr>\n",
       "    <tr>\n",
       "      <td>1200</td>\n",
       "      <td>2.153800</td>\n",
       "      <td>1.901576</td>\n",
       "    </tr>\n",
       "    <tr>\n",
       "      <td>1400</td>\n",
       "      <td>2.140700</td>\n",
       "      <td>1.882540</td>\n",
       "    </tr>\n",
       "    <tr>\n",
       "      <td>1600</td>\n",
       "      <td>2.126700</td>\n",
       "      <td>1.871080</td>\n",
       "    </tr>\n",
       "    <tr>\n",
       "      <td>1800</td>\n",
       "      <td>2.099300</td>\n",
       "      <td>1.860218</td>\n",
       "    </tr>\n",
       "    <tr>\n",
       "      <td>2000</td>\n",
       "      <td>2.099100</td>\n",
       "      <td>1.848099</td>\n",
       "    </tr>\n",
       "    <tr>\n",
       "      <td>2200</td>\n",
       "      <td>2.082800</td>\n",
       "      <td>1.840799</td>\n",
       "    </tr>\n",
       "  </tbody>\n",
       "</table><p>"
      ],
      "text/plain": [
       "<IPython.core.display.HTML object>"
      ]
     },
     "metadata": {},
     "output_type": "display_data"
    },
    {
     "name": "stderr",
     "output_type": "stream",
     "text": [
      "/home/ec2-user/anaconda3/envs/pytorch_p310/lib/python3.10/site-packages/peft/utils/save_and_load.py:202: UserWarning: Setting `save_embedding_layers` to `True` as embedding layers found in `target_modules`.\n",
      "  warnings.warn(\"Setting `save_embedding_layers` to `True` as embedding layers found in `target_modules`.\")\n",
      "/home/ec2-user/anaconda3/envs/pytorch_p310/lib/python3.10/site-packages/peft/utils/save_and_load.py:202: UserWarning: Setting `save_embedding_layers` to `True` as embedding layers found in `target_modules`.\n",
      "  warnings.warn(\"Setting `save_embedding_layers` to `True` as embedding layers found in `target_modules`.\")\n",
      "/home/ec2-user/anaconda3/envs/pytorch_p310/lib/python3.10/site-packages/peft/utils/save_and_load.py:202: UserWarning: Setting `save_embedding_layers` to `True` as embedding layers found in `target_modules`.\n",
      "  warnings.warn(\"Setting `save_embedding_layers` to `True` as embedding layers found in `target_modules`.\")\n",
      "/home/ec2-user/anaconda3/envs/pytorch_p310/lib/python3.10/site-packages/peft/utils/save_and_load.py:202: UserWarning: Setting `save_embedding_layers` to `True` as embedding layers found in `target_modules`.\n",
      "  warnings.warn(\"Setting `save_embedding_layers` to `True` as embedding layers found in `target_modules`.\")\n",
      "/home/ec2-user/anaconda3/envs/pytorch_p310/lib/python3.10/site-packages/peft/utils/save_and_load.py:202: UserWarning: Setting `save_embedding_layers` to `True` as embedding layers found in `target_modules`.\n",
      "  warnings.warn(\"Setting `save_embedding_layers` to `True` as embedding layers found in `target_modules`.\")\n",
      "/home/ec2-user/anaconda3/envs/pytorch_p310/lib/python3.10/site-packages/peft/utils/save_and_load.py:202: UserWarning: Setting `save_embedding_layers` to `True` as embedding layers found in `target_modules`.\n",
      "  warnings.warn(\"Setting `save_embedding_layers` to `True` as embedding layers found in `target_modules`.\")\n",
      "/home/ec2-user/anaconda3/envs/pytorch_p310/lib/python3.10/site-packages/peft/utils/save_and_load.py:202: UserWarning: Setting `save_embedding_layers` to `True` as embedding layers found in `target_modules`.\n",
      "  warnings.warn(\"Setting `save_embedding_layers` to `True` as embedding layers found in `target_modules`.\")\n",
      "/home/ec2-user/anaconda3/envs/pytorch_p310/lib/python3.10/site-packages/peft/utils/save_and_load.py:202: UserWarning: Setting `save_embedding_layers` to `True` as embedding layers found in `target_modules`.\n",
      "  warnings.warn(\"Setting `save_embedding_layers` to `True` as embedding layers found in `target_modules`.\")\n",
      "/home/ec2-user/anaconda3/envs/pytorch_p310/lib/python3.10/site-packages/peft/utils/save_and_load.py:202: UserWarning: Setting `save_embedding_layers` to `True` as embedding layers found in `target_modules`.\n",
      "  warnings.warn(\"Setting `save_embedding_layers` to `True` as embedding layers found in `target_modules`.\")\n",
      "/home/ec2-user/anaconda3/envs/pytorch_p310/lib/python3.10/site-packages/peft/utils/save_and_load.py:202: UserWarning: Setting `save_embedding_layers` to `True` as embedding layers found in `target_modules`.\n",
      "  warnings.warn(\"Setting `save_embedding_layers` to `True` as embedding layers found in `target_modules`.\")\n",
      "/home/ec2-user/anaconda3/envs/pytorch_p310/lib/python3.10/site-packages/peft/utils/save_and_load.py:202: UserWarning: Setting `save_embedding_layers` to `True` as embedding layers found in `target_modules`.\n",
      "  warnings.warn(\"Setting `save_embedding_layers` to `True` as embedding layers found in `target_modules`.\")\n",
      "/home/ec2-user/anaconda3/envs/pytorch_p310/lib/python3.10/site-packages/peft/utils/save_and_load.py:202: UserWarning: Setting `save_embedding_layers` to `True` as embedding layers found in `target_modules`.\n",
      "  warnings.warn(\"Setting `save_embedding_layers` to `True` as embedding layers found in `target_modules`.\")\n"
     ]
    },
    {
     "data": {
      "text/plain": [
       "1722939326516"
      ]
     },
     "execution_count": 30,
     "metadata": {},
     "output_type": "execute_result"
    }
   ],
   "source": [
    "train_data, val_data = train_test_split(dataset_3)\n",
    "\n",
    "model_id = f\"{BASE_DIR}2/model/fine_tuned\"\n",
    "index = 3\n",
    "model = load_model(model_id, True)\n",
    "model = get_peft_model(model, peft_params)\n",
    "model.print_trainable_parameters()\n",
    "print(\"Fine-Tuning: \", model_id)\n",
    "model = train(train_data, val_data, model, tokenizer, f\"{BASE_DIR}{index}\")\n",
    "\n",
    "current_timestamp_ms = int(time.time() * 1000)\n",
    "current_timestamp_ms"
   ]
  },
  {
   "cell_type": "markdown",
   "metadata": {},
   "source": [
    "# inference after finetuning with dataset 3"
   ]
  },
  {
   "cell_type": "code",
   "execution_count": 29,
   "metadata": {
    "scrolled": true
   },
   "outputs": [
    {
     "name": "stdout",
     "output_type": "stream",
     "text": [
      "Loading:  /home/ec2-user/SageMaker/gpt2/LoRA/dataset-3/model/fine_tuned\n",
      "******************************* PROMPT *******************************\n",
      "Can you design a program in Python that can predict the likelihood of a certain material becoming unstable under high pressure and temperature conditions? This can be calculated using the Gurney equation, which takes into account parameters such as the chemical composition and crystal structure of the material. Additionally, can you provide a real-world scenario where this program could be applied in the field of material science and engineering?\n",
      "******************************* Inference *******************************\n",
      "Can you design a program in Python that can predict the likelihood of a certain material becoming unstable under high pressure and temperature conditions? This can be calculated using the Gurney equation, which takes into account parameters such as the chemical composition and crystal structure of the material. Additionally, can you provide a real-world scenario where this program could be applied in the field of material science and engineering?\n",
      "The Gurney equation assumes a system to be stable to an intermediate, unstable point. In the Python programming language, where the Gurney equation is expressed in terms of a maximum potential of a given given number of positive integers to reach some predetermined value, the numerical maximum potential of such a system can be specified in the appropriate order. For example, the maximum potential of a given system for the Python programming language should be 7,000,000. If the values on the Gurney equation are at the absolute maximum, then it should be calculated as follows:\n",
      "For a given element, it is an implementation of the Python function get_element() function.\n",
      "For example, we can consider that the expected maximum number of elements is 1,000,000 if the maximum element is 0. In sum, this mathematical equation demonstrates that the function is able to predict the maximum\n",
      "====================================================================================================\n",
      "******************************* PROMPT *******************************\n",
      "Write a Python function that returns the maximum value of the given set of integers: 1, 5, 23, and 9. The function should only use one line of code and must utilize the lambda function. Additionally, the function should be able to handle any set of integers provided as input, and should return an error message if any non-integer values are detected. The output should be displayed in a formatted table with the following columns: \"Input Set\", \"Maximum Value\". The table should also include a row for the given set of integers as well as a row for a randomly generated set of 10 integers between 1 and 100. Lastly, the function should be written in SQL and should be able to query a database table containing the input sets and their corresponding maximum values.\n",
      "******************************* Inference *******************************\n",
      "Write a Python function that returns the maximum value of the given set of integers: 1, 5, 23, and 9. The function should only use one line of code and must utilize the lambda function. Additionally, the function should be able to handle any set of integers provided as input, and should return an error message if any non-integer values are detected. The output should be displayed in a formatted table with the following columns: \"Input Set\", \"Maximum Value\". The table should also include a row for the given set of integers as well as a row for a randomly generated set of 10 integers between 1 and 100. Lastly, the function should be written in SQL and should be able to query a database table containing the input sets and their corresponding maximum values.\n",
      "Given the possible scenario in Python, we can consider a time complexity approach by creating a function that iterates over the list of integers to be returned, and returns its maximum value.\n",
      "In these examples, we return each empty integer in the list using the function that prints the maximum value of the given set of integers, instead of printing an error message.\n",
      "Finally, with the time complexity approach, we can handle an empty list with a set of integers, instead of printing an error message.\n",
      "====================================================================================================\n",
      "******************************* PROMPT *******************************\n",
      "Create a function that takes two parameters, a number and a string, and returns an array with those two values in it. The string parameter should be checked if it is a valid string and if it contains only alphabetical characters. If the string is not valid (length less than 10 characters) or contains non-alphabetical characters, the function should return an empty array. Additionally, the number parameter should be restricted to a range between -1000 and 1000 (inclusive). The function should also check if the number is a prime number and return an empty array if it is not.\n",
      "******************************* Inference *******************************\n",
      "Create a function that takes two parameters, a number and a string, and returns an array with those two values in it. The string parameter should be checked if it is a valid string and if it contains only alphabetical characters. If the string is not valid (length less than 10 characters) or contains non-alphabetical characters, the function should return an empty array. Additionally, the number parameter should be restricted to a range between -1000 and 1000 (inclusive). The function should also check if the number is a prime number and return an empty array if it is not. Once the array is found, the function should increment it using an increment() call until it meets all two requirements. Implement the code to add the integers first: After checking the array, initialize it with the appropriate array and call increment() and increment() should replace the array with the appropriate number as needed without any additional code for the loop: Initialize a function that takes two parameters, a number and a string, and returns an array with those two values in it. The string parameter should be checked if it is a valid string and if it contains only alphabetical characters. If the string is not valid (length less than 10 characters) or contains non-alphabetic characters, the function\n",
      "====================================================================================================\n",
      "******************************* PROMPT *******************************\n",
      "Given a string, convert it to upper case using only basic string manipulation operations. The string may contain punctuation marks, special characters, and spaces. String: This string should be in upper case!\n",
      "******************************* Inference *******************************\n",
      "Given a string, convert it to upper case using only basic string manipulation operations. The string may contain punctuation marks, special characters, and spaces. String: This string should be in upper case!\n",
      "\n",
      "This string should be in upper case! Return value: True If the string contains punctuation marks with space, capitalize it using a space character or special character from ASCII. If you want to exclude punctuation marks with different spaces without using square brackets, capitalize the character using space instead. The square brackets within capitalize the character using a square brackets. If you want to exclude punctuation marks that have spaces, use the spaces in the character using non-quoted spaces. If you want to exclude punctuation marks that use trailing spaces or whitespace, capitalize the apostrophe following the apostrophe, and capitalize the spaces in the character using spaces. Additionally, capitalize the end of the square bracket with a space. Note that capitalize marks with apostrophes are considered missing punctuation marks with apostrophes, regardless of their presence on the character and string. However, capitalize the apostrophe to preserve the length.\n",
      "\n",
      "Note that capitalize the apostrophe to preserve the length. Initialize script function: If the script will only process the specified string once, and this will\n",
      "====================================================================================================\n"
     ]
    },
    {
     "name": "stdout",
     "output_type": "stream",
     "text": [
      "******************************* PROMPT *******************************\n",
      "Find the sum of the first 1000 prime numbers that are greater than 100.\n",
      "******************************* Inference *******************************\n",
      "Find the sum of the first 1000 prime numbers that are greater than 100. It cannot be greater than the sum of those that are equal to 10. Find each 1-in-1 as a subsequence of all the numbers within the sequence of prime numbers that are in the sequence of prime numbers. If all prime numbers have the same length (10), it is equivalent to find if the prime number is in the prime number range (0, 10, 30, 60, 90, 120, 180, 240, 500, 1000, 1000:0, 2000), otherwise find prime number within the sequence.\n",
      "To find all integer numbers, calculate the value of the sequence of numbers in the range 10 to 10, inclusive, in the sequence 10 to 10, inclusive, in the sequence 10 to 7 (excluding the remainder of the sequence) and compare the product of the numbers with the sum of the prime numbers.\n",
      "To find all two numbers in any two prime numbers, calculate both number in the sequence 10 to 20, inclusive, and subtract all the prime numbers separated by spaces (excluding the remainder of the sequence) in the sequence to found the prime from the prime number.\n",
      "To find two numbers in any number less than 0.1, subtract it from the prime number\n",
      "====================================================================================================\n",
      "******************************* PROMPT *******************************\n",
      "Provide a function that finds the length of a string, but without using any built-in string length functions or methods, and without using any iteration or recursion.\n",
      "******************************* Inference *******************************\n",
      "Provide a function that finds the length of a string, but without using any built-in string length functions or methods, and without using any iteration or recursion.\n",
      "\n",
      "Note: The length of the string must be at least two bytes (16) in length. If the output string contains elements of the same length, the output string must contain the elements of the second, third, or fourth letter. Each character must have at least at least one consecutive word in its format:\n",
      "4.9 Unicode code generation functions\n",
      "\n",
      "The implementation of these functions may require access to one or more input files or functions that use the binary code. The implementation should handle input without modification or copying.\n",
      "\n",
      "The implementation of the code generation functions should assume the following basic assumptions:\n",
      "- The implementation assumes constant-speed and variable-speed checksums. The implementation checks the checksum of a constant-speed string using the built-in string type and uses the string length (if any) as a maximum without modifications.\n",
      "\n",
      "- The implementation assumes that any constant length string character is in the format \"dae\":\n",
      "\n",
      "Output will be encoded with the binary code of a constant-speed string without modifications. The implementation checks the checksum of a constant-speed string\n",
      "====================================================================================================\n",
      "******************************* PROMPT *******************************\n",
      "Create a function that removes duplicates from an array and returns an array of the unique values. The function should only use O(1) additional space and have a time complexity of O(n), where n is the length of the input array. The input array can contain integers, floating-point numbers, strings, and nested arrays. The output array should be sorted in descending order. Additionally, the function should handle nested arrays correctly by recursively flattening them before removing duplicates.\n",
      "******************************* Inference *******************************\n",
      "Create a function that removes duplicates from an array and returns an array of the unique values. The function should only use O(1) additional space and have a time complexity of O(n), where n is the length of the input array. The input array can contain integers, floating-point numbers, strings, and nested arrays. The output array should be sorted in descending order. Additionally, the function should handle nested arrays correctly by recursively flattening them before removing duplicates. Additionally, the function should handle the \"removing duplicate\" operations correctly using the same algorithm as the first function, with the duplicate removal order added in an appropriate order, with less duplicates as a result.\n",
      "Create a function that removes duplicates from an array and returns an array of the unique values. The function should only use O(1) additional space and have a time complexity of O(n), where n is the length of the input array. The input array can contain integers, floating-point numbers, strings, and nested arrays. The output array should be sorted in descending order. Additionally, the function should handle nested arrays correctly by recursively flattening them before removing duplicates. Additionally, the function should handle the \"removing duplicate\" operations correctly using\n",
      "====================================================================================================\n",
      "******************************* PROMPT *******************************\n",
      "Create a 3x4 NumPy array of random integers from 0 to 5, where each row should have at least one unique value.\n",
      "******************************* Inference *******************************\n",
      "Create a 3x4 NumPy array of random integers from 0 to 5, where each row should have at least one unique value.\n",
      "Here is an example.\n",
      "The code uses the following function call:\n",
      "print(random_array('1', 15))\n",
      "====================================================================================================\n",
      "******************************* PROMPT *******************************\n",
      "Find the index of the element 'c' in the following list, but the list may contain duplicates and the element 'c' may appear multiple times.\n",
      "******************************* Inference *******************************\n",
      "Find the index of the element 'c' in the following list, but the list may contain duplicates and the element 'c' may appear multiple times.\n",
      "\n",
      "Example:\n",
      "  # Output: a = 0 2 3\n",
      "\n",
      "Here is a function that takes a list of elements and calculates the return value for each element. The function returns the element in the array 'a' where each element appears once and is divided into four elements and is added back to the list.\n",
      ") and the function is called with the following code:\n",
      "- ( function [items] ( empty string [result]) {\n",
      "\n",
      "- If the return value is less than 'a', return the element, excluding any duplicate elements. Otherwise 'a' with no elements is returned, and each element in the array 'a' is divisible by 8.\n",
      "  # Output: a = 0 2 3\n",
      "# Returns: 'ae'\n",
      "\n",
      "In the function from the previous example, the return value of the function is 'a' but the input of the function is different from 'ab'. In the function in this example, the output of the return value depends on the input and not on the variable value of the function. Therefore, in this case, two values greater than\n",
      "====================================================================================================\n",
      "******************************* PROMPT *******************************\n",
      "Write a function for finding the minimum value in a given array, with a time complexity requirement of O(n log n), where n is the length of the array.\n",
      "******************************* Inference *******************************\n",
      "Write a function for finding the minimum value in a given array, with a time complexity requirement of O(n log n), where n is the length of the array. If the array appears large, then one has to use the shortest possible path. If it appears large, the first iteration is done in the smallest possible possible step. If the array appears large, the next iteration is done in the smallest bit of each value in each iteration. If the array appears large, and the smallest number of elements is required, the next iteration is done in the most large remaining element in each iteration. If the array appears large, then the next iteration of each of the iterate loop has to iterate through each element, without any additional steps. Additionally, the smallest possible approach for finding a loop time complexity should be calculated, considering the O(n log n), where n is the length of array, the length of the array, the element from the iterate loop with the elements in that array, and the smallest possible step.\n",
      "\n",
      "### Response Response Response Response Response Response Response Response Response Response Response Response Response Response Response Response Response Response Response Response Response Response Response Response Response Response Response Response Response Response Response Response Response Response Response Response Response Response Response Response Response Response Response Response Response Response\n",
      "====================================================================================================\n"
     ]
    }
   ],
   "source": [
    "model = load_model(f\"{BASE_DIR}3/model/fine_tuned\") \n",
    "generate_inference(model, tokenizer)"
   ]
  },
  {
   "cell_type": "markdown",
   "metadata": {},
   "source": [
    "# Finetune with model with dataset 4"
   ]
  },
  {
   "cell_type": "code",
   "execution_count": 31,
   "metadata": {},
   "outputs": [
    {
     "name": "stdout",
     "output_type": "stream",
     "text": [
      "dataset 4 finetuning 1722939340914\n"
     ]
    }
   ],
   "source": [
    "current_timestamp_ms = int(time.time() * 1000)\n",
    "print(\"dataset 4 finetuning\", current_timestamp_ms)"
   ]
  },
  {
   "cell_type": "code",
   "execution_count": 32,
   "metadata": {},
   "outputs": [
    {
     "name": "stdout",
     "output_type": "stream",
     "text": [
      "Loading:  /home/ec2-user/SageMaker/gpt2/LoRA/dataset-3/model/fine_tuned\n",
      "trainable params: 816,400 || all params: 125,256,208 || trainable%: 0.6518\n",
      "Fine-Tuning:  /home/ec2-user/SageMaker/gpt2/LoRA/dataset-3/model/fine_tuned\n"
     ]
    },
    {
     "data": {
      "application/vnd.jupyter.widget-view+json": {
       "model_id": "109dd356624d40ecbae4dfd396f72b3c",
       "version_major": 2,
       "version_minor": 0
      },
      "text/plain": [
       "Generating train split: 0 examples [00:00, ? examples/s]"
      ]
     },
     "metadata": {},
     "output_type": "display_data"
    },
    {
     "data": {
      "application/vnd.jupyter.widget-view+json": {
       "model_id": "13671fcd409142b9aeb8744431f3ab9e",
       "version_major": 2,
       "version_minor": 0
      },
      "text/plain": [
       "Generating train split: 0 examples [00:00, ? examples/s]"
      ]
     },
     "metadata": {},
     "output_type": "display_data"
    },
    {
     "name": "stdout",
     "output_type": "stream",
     "text": [
      "Model output path:  /home/ec2-user/SageMaker/gpt2/LoRA/dataset-4/model/fine_tuned\n"
     ]
    },
    {
     "data": {
      "text/html": [
       "\n",
       "    <div>\n",
       "      \n",
       "      <progress value='2886' max='2886' style='width:300px; height:20px; vertical-align: middle;'></progress>\n",
       "      [2886/2886 07:22, Epoch 2/3]\n",
       "    </div>\n",
       "    <table border=\"1\" class=\"dataframe\">\n",
       "  <thead>\n",
       " <tr style=\"text-align: left;\">\n",
       "      <th>Step</th>\n",
       "      <th>Training Loss</th>\n",
       "      <th>Validation Loss</th>\n",
       "    </tr>\n",
       "  </thead>\n",
       "  <tbody>\n",
       "    <tr>\n",
       "      <td>200</td>\n",
       "      <td>3.007100</td>\n",
       "      <td>2.495898</td>\n",
       "    </tr>\n",
       "    <tr>\n",
       "      <td>400</td>\n",
       "      <td>2.648600</td>\n",
       "      <td>2.254859</td>\n",
       "    </tr>\n",
       "    <tr>\n",
       "      <td>600</td>\n",
       "      <td>2.545000</td>\n",
       "      <td>2.183419</td>\n",
       "    </tr>\n",
       "    <tr>\n",
       "      <td>800</td>\n",
       "      <td>2.484500</td>\n",
       "      <td>2.137817</td>\n",
       "    </tr>\n",
       "    <tr>\n",
       "      <td>1000</td>\n",
       "      <td>2.435700</td>\n",
       "      <td>2.106049</td>\n",
       "    </tr>\n",
       "    <tr>\n",
       "      <td>1200</td>\n",
       "      <td>2.400600</td>\n",
       "      <td>2.079571</td>\n",
       "    </tr>\n",
       "    <tr>\n",
       "      <td>1400</td>\n",
       "      <td>2.370100</td>\n",
       "      <td>2.059118</td>\n",
       "    </tr>\n",
       "    <tr>\n",
       "      <td>1600</td>\n",
       "      <td>2.354300</td>\n",
       "      <td>2.040565</td>\n",
       "    </tr>\n",
       "    <tr>\n",
       "      <td>1800</td>\n",
       "      <td>2.346000</td>\n",
       "      <td>2.024897</td>\n",
       "    </tr>\n",
       "    <tr>\n",
       "      <td>2000</td>\n",
       "      <td>2.320100</td>\n",
       "      <td>2.013632</td>\n",
       "    </tr>\n",
       "    <tr>\n",
       "      <td>2200</td>\n",
       "      <td>2.298600</td>\n",
       "      <td>2.003027</td>\n",
       "    </tr>\n",
       "    <tr>\n",
       "      <td>2400</td>\n",
       "      <td>2.287900</td>\n",
       "      <td>1.992741</td>\n",
       "    </tr>\n",
       "    <tr>\n",
       "      <td>2600</td>\n",
       "      <td>2.278700</td>\n",
       "      <td>1.982910</td>\n",
       "    </tr>\n",
       "    <tr>\n",
       "      <td>2800</td>\n",
       "      <td>2.279200</td>\n",
       "      <td>1.975170</td>\n",
       "    </tr>\n",
       "  </tbody>\n",
       "</table><p>"
      ],
      "text/plain": [
       "<IPython.core.display.HTML object>"
      ]
     },
     "metadata": {},
     "output_type": "display_data"
    },
    {
     "name": "stderr",
     "output_type": "stream",
     "text": [
      "/home/ec2-user/anaconda3/envs/pytorch_p310/lib/python3.10/site-packages/peft/utils/save_and_load.py:202: UserWarning: Setting `save_embedding_layers` to `True` as embedding layers found in `target_modules`.\n",
      "  warnings.warn(\"Setting `save_embedding_layers` to `True` as embedding layers found in `target_modules`.\")\n",
      "/home/ec2-user/anaconda3/envs/pytorch_p310/lib/python3.10/site-packages/peft/utils/save_and_load.py:202: UserWarning: Setting `save_embedding_layers` to `True` as embedding layers found in `target_modules`.\n",
      "  warnings.warn(\"Setting `save_embedding_layers` to `True` as embedding layers found in `target_modules`.\")\n",
      "/home/ec2-user/anaconda3/envs/pytorch_p310/lib/python3.10/site-packages/peft/utils/save_and_load.py:202: UserWarning: Setting `save_embedding_layers` to `True` as embedding layers found in `target_modules`.\n",
      "  warnings.warn(\"Setting `save_embedding_layers` to `True` as embedding layers found in `target_modules`.\")\n",
      "/home/ec2-user/anaconda3/envs/pytorch_p310/lib/python3.10/site-packages/peft/utils/save_and_load.py:202: UserWarning: Setting `save_embedding_layers` to `True` as embedding layers found in `target_modules`.\n",
      "  warnings.warn(\"Setting `save_embedding_layers` to `True` as embedding layers found in `target_modules`.\")\n",
      "/home/ec2-user/anaconda3/envs/pytorch_p310/lib/python3.10/site-packages/peft/utils/save_and_load.py:202: UserWarning: Setting `save_embedding_layers` to `True` as embedding layers found in `target_modules`.\n",
      "  warnings.warn(\"Setting `save_embedding_layers` to `True` as embedding layers found in `target_modules`.\")\n",
      "/home/ec2-user/anaconda3/envs/pytorch_p310/lib/python3.10/site-packages/peft/utils/save_and_load.py:202: UserWarning: Setting `save_embedding_layers` to `True` as embedding layers found in `target_modules`.\n",
      "  warnings.warn(\"Setting `save_embedding_layers` to `True` as embedding layers found in `target_modules`.\")\n",
      "/home/ec2-user/anaconda3/envs/pytorch_p310/lib/python3.10/site-packages/peft/utils/save_and_load.py:202: UserWarning: Setting `save_embedding_layers` to `True` as embedding layers found in `target_modules`.\n",
      "  warnings.warn(\"Setting `save_embedding_layers` to `True` as embedding layers found in `target_modules`.\")\n",
      "/home/ec2-user/anaconda3/envs/pytorch_p310/lib/python3.10/site-packages/peft/utils/save_and_load.py:202: UserWarning: Setting `save_embedding_layers` to `True` as embedding layers found in `target_modules`.\n",
      "  warnings.warn(\"Setting `save_embedding_layers` to `True` as embedding layers found in `target_modules`.\")\n",
      "/home/ec2-user/anaconda3/envs/pytorch_p310/lib/python3.10/site-packages/peft/utils/save_and_load.py:202: UserWarning: Setting `save_embedding_layers` to `True` as embedding layers found in `target_modules`.\n",
      "  warnings.warn(\"Setting `save_embedding_layers` to `True` as embedding layers found in `target_modules`.\")\n",
      "/home/ec2-user/anaconda3/envs/pytorch_p310/lib/python3.10/site-packages/peft/utils/save_and_load.py:202: UserWarning: Setting `save_embedding_layers` to `True` as embedding layers found in `target_modules`.\n",
      "  warnings.warn(\"Setting `save_embedding_layers` to `True` as embedding layers found in `target_modules`.\")\n",
      "/home/ec2-user/anaconda3/envs/pytorch_p310/lib/python3.10/site-packages/peft/utils/save_and_load.py:202: UserWarning: Setting `save_embedding_layers` to `True` as embedding layers found in `target_modules`.\n",
      "  warnings.warn(\"Setting `save_embedding_layers` to `True` as embedding layers found in `target_modules`.\")\n",
      "/home/ec2-user/anaconda3/envs/pytorch_p310/lib/python3.10/site-packages/peft/utils/save_and_load.py:202: UserWarning: Setting `save_embedding_layers` to `True` as embedding layers found in `target_modules`.\n",
      "  warnings.warn(\"Setting `save_embedding_layers` to `True` as embedding layers found in `target_modules`.\")\n",
      "/home/ec2-user/anaconda3/envs/pytorch_p310/lib/python3.10/site-packages/peft/utils/save_and_load.py:202: UserWarning: Setting `save_embedding_layers` to `True` as embedding layers found in `target_modules`.\n",
      "  warnings.warn(\"Setting `save_embedding_layers` to `True` as embedding layers found in `target_modules`.\")\n",
      "/home/ec2-user/anaconda3/envs/pytorch_p310/lib/python3.10/site-packages/peft/utils/save_and_load.py:202: UserWarning: Setting `save_embedding_layers` to `True` as embedding layers found in `target_modules`.\n",
      "  warnings.warn(\"Setting `save_embedding_layers` to `True` as embedding layers found in `target_modules`.\")\n",
      "/home/ec2-user/anaconda3/envs/pytorch_p310/lib/python3.10/site-packages/peft/utils/save_and_load.py:202: UserWarning: Setting `save_embedding_layers` to `True` as embedding layers found in `target_modules`.\n",
      "  warnings.warn(\"Setting `save_embedding_layers` to `True` as embedding layers found in `target_modules`.\")\n"
     ]
    },
    {
     "data": {
      "text/plain": [
       "1722939806146"
      ]
     },
     "execution_count": 32,
     "metadata": {},
     "output_type": "execute_result"
    }
   ],
   "source": [
    "train_data, val_data = train_test_split(dataset_4)\n",
    "\n",
    "model_id = f\"{BASE_DIR}3/model/fine_tuned\"\n",
    "index = 4\n",
    "model = load_model(model_id, True)\n",
    "model = get_peft_model(model, peft_params)\n",
    "model.print_trainable_parameters()\n",
    "print(\"Fine-Tuning: \", model_id)\n",
    "model = train(train_data, val_data, model, tokenizer, f\"{BASE_DIR}{index}\")\n",
    "\n",
    "current_timestamp_ms = int(time.time() * 1000)\n",
    "current_timestamp_ms"
   ]
  },
  {
   "cell_type": "markdown",
   "metadata": {},
   "source": [
    "# inference after finetuning with dataset 4"
   ]
  },
  {
   "cell_type": "code",
   "execution_count": 33,
   "metadata": {
    "scrolled": false
   },
   "outputs": [
    {
     "name": "stdout",
     "output_type": "stream",
     "text": [
      "Loading:  /home/ec2-user/SageMaker/gpt2/LoRA/dataset-4/model/fine_tuned\n",
      "******************************* PROMPT *******************************\n",
      "Can you design a program in Python that can predict the likelihood of a certain material becoming unstable under high pressure and temperature conditions? This can be calculated using the Gurney equation, which takes into account parameters such as the chemical composition and crystal structure of the material. Additionally, can you provide a real-world scenario where this program could be applied in the field of material science and engineering?\n",
      "******************************* Inference *******************************\n",
      "Can you design a program in Python that can predict the likelihood of a certain material becoming unstable under high pressure and temperature conditions? This can be calculated using the Gurney equation, which takes into account parameters such as the chemical composition and crystal structure of the material. Additionally, can you provide a real-world scenario where this program could be applied in the field of material science and engineering? Here's the Python code that you can incorporate into a Python program to provide a predicted potential for changing a material's hardness and shape depending on whether or not it is stable today.\n",
      "Here's an example Python function that could provide a pessimistic approach to the Gurney equation used with the data used in this paper:\n",
      "print( \"The table for temperature and moisture in a given region is generated using a random function. The temperature of the region is calculated by the square root of the square of the given value in meters. The moisture value of the region is calculated by the square root of the square of the square of the square in meters. The potential for increasing moisture is calculated by the square root of, or the density of, the square of the square of the square in meters.\")\n",
      "###\n",
      "###\n",
      "You can follow a Python code example here to demonstrate a Python program\n",
      "====================================================================================================\n",
      "******************************* PROMPT *******************************\n",
      "Write a Python function that returns the maximum value of the given set of integers: 1, 5, 23, and 9. The function should only use one line of code and must utilize the lambda function. Additionally, the function should be able to handle any set of integers provided as input, and should return an error message if any non-integer values are detected. The output should be displayed in a formatted table with the following columns: \"Input Set\", \"Maximum Value\". The table should also include a row for the given set of integers as well as a row for a randomly generated set of 10 integers between 1 and 100. Lastly, the function should be written in SQL and should be able to query a database table containing the input sets and their corresponding maximum values.\n",
      "******************************* Inference *******************************\n",
      "Write a Python function that returns the maximum value of the given set of integers: 1, 5, 23, and 9. The function should only use one line of code and must utilize the lambda function. Additionally, the function should be able to handle any set of integers provided as input, and should return an error message if any non-integer values are detected. The output should be displayed in a formatted table with the following columns: \"Input Set\", \"Maximum Value\". The table should also include a row for the given set of integers as well as a row for a randomly generated set of 10 integers between 1 and 100. Lastly, the function should be written in SQL and should be able to query a database table containing the input sets and their corresponding maximum values. Table: The Python Response Response Response Response Response Response Response Response Response Response Response Response\n",
      "The following table lists an example output:\n",
      " Response Response Response Response Response Response Response Response Response Response Response Response Response Response Response Response Response Response Response Response Response Response Response Response Response Response Response Response Response Response Response Response Response Response Response Response Response Response Response Response Response The code is shown in a Python function that returns the maximum value of the given set of integers: 1, 5, 23, and 9. The function should only\n",
      "====================================================================================================\n",
      "******************************* PROMPT *******************************\n",
      "Create a function that takes two parameters, a number and a string, and returns an array with those two values in it. The string parameter should be checked if it is a valid string and if it contains only alphabetical characters. If the string is not valid (length less than 10 characters) or contains non-alphabetical characters, the function should return an empty array. Additionally, the number parameter should be restricted to a range between -1000 and 1000 (inclusive). The function should also check if the number is a prime number and return an empty array if it is not.\n",
      "******************************* Inference *******************************\n",
      "Create a function that takes two parameters, a number and a string, and returns an array with those two values in it. The string parameter should be checked if it is a valid string and if it contains only alphabetical characters. If the string is not valid (length less than 10 characters) or contains non-alphabetical characters, the function should return an empty array. Additionally, the number parameter should be restricted to a range between -1000 and 1000 (inclusive). The function should also check if the number is a prime number and return an empty array if it is not. If the integer parameter is not in range, returns an empty object and the function should return a sequence of integer arguments to use to compare the numeric number to the prime number. Each function that retrieves an array will return an array with the same number in that array in the order in which it was found, i.e. any array that is equal or greater than 0. The array can contain numbers that equal or greater than 1000, and even numbers that are not prime numbers. The string parameter should be used to determine the key of a function with integer or integer arguments, e.g. fis and reverse. A function should return a list of strings representing all the strings found\n",
      "====================================================================================================\n",
      "******************************* PROMPT *******************************\n",
      "Given a string, convert it to upper case using only basic string manipulation operations. The string may contain punctuation marks, special characters, and spaces. String: This string should be in upper case!\n",
      "******************************* Inference *******************************\n",
      "Given a string, convert it to upper case using only basic string manipulation operations. The string may contain punctuation marks, special characters, and spaces. String: This string should be in upper case! This string is valid in the user space and used as the input of Python 2.3. Additionally, a string may be converted to lower case using only basic string manipulation operations. The string may contain punctuation marks, special characters, and spaces. string: This string should be in lower case! The string should look the same as the text in a Python program, assuming the first two parentheses handle the text properly. string:\n",
      "# Output:\n",
      "a = [{0} = 9456 x = [{5} = [\"A\"]]\n",
      "# Output:\n",
      "b= [{5} = [\"P\"]]\n",
      "n= [{\"a\"}]\n",
      "# Output:\n",
      " # Output: c= [{9} = \"P\" / [\"|\"][|\"]\n",
      "# Output:\n",
      "b= [{9} = [\"P\" / \"P\"]]\n",
      "2.4. Python 2.3+ Print the output value of a function using a number:\n",
      "print f(f, x):\n",
      "print f, x:\n",
      "====================================================================================================\n",
      "******************************* PROMPT *******************************\n",
      "Find the sum of the first 1000 prime numbers that are greater than 100.\n",
      "******************************* Inference *******************************\n",
      "Find the sum of the first 1000 prime numbers that are greater than 100. Calculate their value: Find the sum of the first 1000 prime numbers that are greater than 25.\n",
      "To solve the problem, simply sum up the prime numbers each of which are greater than 100. Find the sum of the first 1000 prime numbers that are greater than 90. Find the sum of the first 1000 prime numbers that are greater than 50. Find the sum of the first 1000 prime numbers that are greater than 30. Find the sum of the first 1000 prime numbers that are greater than 30. Find the sum of the first 1000 prime numbers that are greater than 60. Calculate the prime number value (e.g., prime number = 2521). Here's how the sum of each 1000 prime numbers may be calculated for the following: prime number = primenumber ( 100000 ). prime_num = prime_num ( 100000 ). prime_sum = prime_sum ( 2521 ). prime_sum_to_prime_number = prime_sum_to_prime_number_value = 2521 If you use the binomial formula, the prime number value represents your prime number. To use the prime number value, write it out in a separate word and then append it to the\n",
      "====================================================================================================\n"
     ]
    },
    {
     "name": "stdout",
     "output_type": "stream",
     "text": [
      "******************************* PROMPT *******************************\n",
      "Provide a function that finds the length of a string, but without using any built-in string length functions or methods, and without using any iteration or recursion.\n",
      "******************************* Inference *******************************\n",
      "Provide a function that finds the length of a string, but without using any built-in string length functions or methods, and without using any iteration or recursion.\n",
      "\n",
      "\n",
      "I've previously written a Python function where the first argument is just, or the \"hello\" parameter is a dictionary object with length.\n",
      "\n",
      "\n",
      "\n",
      "\n",
      "\n",
      "\n",
      "\n",
      "\n",
      "\n",
      "\n",
      "\n",
      "\n",
      "\n",
      "\n",
      "\n",
      "\n",
      "\n",
      "\n",
      "\n",
      "\n",
      "Finally, to create a function that prints out the length and output of each function it would use, we need a function that prints the first three elements of an array in a Python variable.\n",
      "\n",
      "\n",
      "\n",
      "\n",
      "\n",
      "\n",
      "\n",
      "\n",
      "\n",
      "\n",
      "\n",
      "\n",
      "\n",
      "\n",
      "\n",
      "\n",
      "\n",
      "\n",
      "\n",
      "\n",
      "\n",
      "\n",
      "\n",
      "\n",
      "\n",
      "\n",
      "\n",
      " It all sounds straightforward, but Python's functions are not quite at the cutting edge of Python's performance. They struggle to handle large numbers of objects in small strings. Furthermore, Python doesn't generate an efficient version of dictionaries. Furthermore, Python's implementation of dictionaries requires\n",
      "====================================================================================================\n",
      "******************************* PROMPT *******************************\n",
      "Create a function that removes duplicates from an array and returns an array of the unique values. The function should only use O(1) additional space and have a time complexity of O(n), where n is the length of the input array. The input array can contain integers, floating-point numbers, strings, and nested arrays. The output array should be sorted in descending order. Additionally, the function should handle nested arrays correctly by recursively flattening them before removing duplicates.\n",
      "******************************* Inference *******************************\n",
      "Create a function that removes duplicates from an array and returns an array of the unique values. The function should only use O(1) additional space and have a time complexity of O(n), where n is the length of the input array. The input array can contain integers, floating-point numbers, strings, and nested arrays. The output array should be sorted in descending order. Additionally, the function should handle nested arrays correctly by recursively flattening them before removing duplicates. You can use the function in conjunction with a list to store the input and outputs, or use them to store a list of the array elements. You should also use a function that ensures that errors are corrected only once, such as when you have no errors found. Implement that function with an array size in mm and a function that checks the error code of each element, and checks that error error handling of those errors is done correctly. The function should be able to handle multiple arrays efficiently. Implement that function as a function that only selects the correct type of input elements, based on their width. Implement that function correctly by splitting in two arrays, or by shuffling through arrays in O(8). Implement that function correctly by ensuring that each array element starts with the given input input and\n",
      "====================================================================================================\n",
      "******************************* PROMPT *******************************\n",
      "Create a 3x4 NumPy array of random integers from 0 to 5, where each row should have at least one unique value.\n",
      "******************************* Inference *******************************\n",
      "Create a 3x4 NumPy array of random integers from 0 to 5, where each row should have at least one unique value. The output is an array of integers representing various numbers in Python's NumPy range as they appear in Python code. The strings are ASCII-formatted and are converted to Python code without encoding, such as a Python string or a Python string table, in a Python function called a list comprehension.\n",
      "Here are the Python code:\n",
      "arr = np.array([len, len+1])\n",
      ".qsort(2)len)+1n-1], len+2])\n",
      "====================================================================================================\n",
      "******************************* PROMPT *******************************\n",
      "Find the index of the element 'c' in the following list, but the list may contain duplicates and the element 'c' may appear multiple times.\n",
      "******************************* Inference *******************************\n",
      "Find the index of the element 'c' in the following list, but the list may contain duplicates and the element 'c' may appear multiple times.\n",
      "Here are the lists of values that have the index 'd' in their names:\n",
      "====================================================================================================\n",
      "******************************* PROMPT *******************************\n",
      "Write a function for finding the minimum value in a given array, with a time complexity requirement of O(n log n), where n is the length of the array.\n",
      "******************************* Inference *******************************\n",
      "Write a function for finding the minimum value in a given array, with a time complexity requirement of O(n log n), where n is the length of the array.\n",
      " Response = ResponseData[(1-100, -100, -100)^7+1] Response = ResponseData[(2-100, -100, -100)^3+1] Response = ResponseData[(3-100, -100-100)^8+1] Response = ResponseData[(-100, 0)] Response = ResponseData[(-100, 1000)] Response = ResponseData[(1-100, 0)] Response = ResponseData[(2-100, 1000)] Response = ResponseData[(-100, 10000)] Response = ResponseData[(-100, 10000)] Response = Object.keys(response)\n",
      "I highly recommend it, as it helps you optimize the code for Python 3 to help get Python programming more efficient. Additionally, you can use it to automate or debug your code by modifying the code in the code snippet to exclude unnecessary information such as the length of the input array.\n",
      "====================================================================================================\n"
     ]
    }
   ],
   "source": [
    "model = load_model(f\"{BASE_DIR}4/model/fine_tuned\") \n",
    "generate_inference(model, tokenizer)"
   ]
  },
  {
   "cell_type": "code",
   "execution_count": null,
   "metadata": {},
   "outputs": [],
   "source": []
  }
 ],
 "metadata": {
  "kaggle": {
   "accelerator": "gpu",
   "dataSources": [],
   "dockerImageVersionId": 30747,
   "isGpuEnabled": true,
   "isInternetEnabled": true,
   "language": "python",
   "sourceType": "notebook"
  },
  "kernelspec": {
   "display_name": "conda_pytorch_p310",
   "language": "python",
   "name": "conda_pytorch_p310"
  },
  "language_info": {
   "codemirror_mode": {
    "name": "ipython",
    "version": 3
   },
   "file_extension": ".py",
   "mimetype": "text/x-python",
   "name": "python",
   "nbconvert_exporter": "python",
   "pygments_lexer": "ipython3",
   "version": "3.10.14"
  }
 },
 "nbformat": 4,
 "nbformat_minor": 4
}
